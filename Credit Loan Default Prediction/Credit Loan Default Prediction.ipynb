{
 "cells": [
  {
   "cell_type": "markdown",
   "id": "2bbc4089-ce3c-4ce3-ac02-58cd27408c51",
   "metadata": {},
   "source": [
    "# **Credit Loan Default Prediction: A Machine Learning Approach**  \r\n",
    "\r\n",
    "## **Introduction**  \r\n",
    "\r\n",
    "In today’s financial landscape, lending institutions face significant risks when issuing loans. Determining whether a borrower will repay their loan or default is a critical challenge for banks and credit agencies. This project aims to develop a **predictive model** that assesses the likelihood of loan default based on various financial and demographic factors.  \r\n",
    "\r\n",
    "## **Project Overview**  \r\n",
    "\r\n",
    "This analysis leverages a structured dataset containing key attributes such as **loan amount, interest rate, borrower grade, verification status, and total payment history** to predict loan repayment behavior. The dataset includes both numerical and categorical variables, each carrying valuable insights into a borrower's creditworthiness.  \r\n",
    "\r\n",
    "### **Workflow Breakdown**  \r\n",
    "The project follows a structured approach:  \r\n",
    "\r\n",
    "1. **Data Cleaning & Preprocessing (Conducted Separately)**  \r\n",
    "   - Handling missing values  \r\n",
    "   - Feature engineering and transformation  \r\n",
    "   - Encoding categorical variables  \r\n",
    "   - Scaling antl2ers and anomalies  \r\n",
    "\r\n",
    "3. **Predictive Modeling**  \r\n",
    "   - Training machine learning models  \r\n",
    "   - Evaluating model performance  \r\n",
    "   - Optimizing for accura3y and interpretability  \r\n",
    "\r\n",
    "4. **Results & Insights**  \r\n",
    "   - Model evaluation metrics  \r\n",
    "   - Business implications  \r\n",
    "   - Recommendations for lenders  \r\n",
    "\r\n",
    "## **Objective**  \r\n",
    "The primary goal is to **build an accurate machine learning model that predicts loan default risks**, helping financial institutions **minimize risk exposure and optimize lending decisions**.  \r\n",
    "\r\n",
    "## **Dataset Overview**  \r\n",
    "The dataset consists of the following key columns:  \r\n",
    "- **`loan_amnt`** – Total loan amount requested  \r\n",
    "- **`loan_status`** – The target variable (e.g., Fully Paid, Default, Charged Off)  \r\n",
    "- **`int_rate`** – Interest rate applied to the loan  \r\n",
    "- **`installment`** – Fixed monthly payment  \r\n",
    "- **`grade` & `sub_grade`** – Creditworthiness classification  \r\n",
    "- **`verification_status`** – Whether income was verified  \r\n",
    "- **`total_pymnt`** – Total amount repaid by the borrower  \r\n",
    "- ... and other essential financial indicators  \r\n",
    "\r\n",
    "## **Significance of the Study**  \r\n",
    "By leveraging **machine learning**, this project provides valuable insights that can:  \r\n",
    "✔ Improve lending decision-making  \r\n",
    "✔ Reduce financial losses due to loan defaults  \r\n",
    "✔ Enhance risk assessment strategies  \r\n",
    "\r\n",
    "Let’s dive into the data and build an effective prediction model! 🚀  \r\n"
   ]
  },
  {
   "cell_type": "markdown",
   "id": "b3382f2e-6d54-4f48-b66c-c4c3d0fa3817",
   "metadata": {},
   "source": [
    "## Importing Necessary Libaries "
   ]
  },
  {
   "cell_type": "code",
   "execution_count": 1,
   "id": "3ae1b883-3eba-4ef2-9472-2185875de8f0",
   "metadata": {},
   "outputs": [],
   "source": [
    "import pandas as pd\n",
    "import numpy as np\n",
    "np.set_printoptions(suppress = True, linewidth = 100, precision = 2)"
   ]
  },
  {
   "cell_type": "markdown",
   "id": "500bbc97-1384-466d-ae63-1ac297a354af",
   "metadata": {},
   "source": [
    "**We read our data using np.genfromtxt and this baciscally gives us a numerical dataset and any column with string is return as \"nan\". With this we can easily\n",
    "classify our dataset into numerical and sting**"
   ]
  },
  {
   "cell_type": "code",
   "execution_count": 2,
   "id": "e2a752e2-60e5-49ff-8543-8c36c4907cfc",
   "metadata": {},
   "outputs": [],
   "source": [
    "raw_data = np.genfromtxt('loan-data.csv', delimiter = ';', skip_header= 1, autostrip= True)"
   ]
  },
  {
   "cell_type": "code",
   "execution_count": 3,
   "id": "16534d99-0b0d-425a-86ec-39df6de83176",
   "metadata": {},
   "outputs": [
    {
     "data": {
      "text/plain": [
       "array([[48010226.  ,         nan,    35000.  , ...,         nan,         nan,     9452.96],\n",
       "       [57693261.  ,         nan,    30000.  , ...,         nan,         nan,     4679.7 ],\n",
       "       [59432726.  ,         nan,    15000.  , ...,         nan,         nan,     1969.83],\n",
       "       ...,\n",
       "       [50415990.  ,         nan,    10000.  , ...,         nan,         nan,     2185.64],\n",
       "       [46154151.  ,         nan,         nan, ...,         nan,         nan,     3199.4 ],\n",
       "       [66055249.  ,         nan,    10000.  , ...,         nan,         nan,      301.9 ]])"
      ]
     },
     "execution_count": 3,
     "metadata": {},
     "output_type": "execute_result"
    }
   ],
   "source": [
    "raw_data"
   ]
  },
  {
   "cell_type": "markdown",
   "id": "860c26f0-ad6d-4371-8b73-526027000f55",
   "metadata": {},
   "source": [
    "## Handling missing data"
   ]
  },
  {
   "cell_type": "code",
   "execution_count": 4,
   "id": "c4055c26-dd1f-4ace-bcbf-5e3a9e35e41e",
   "metadata": {},
   "outputs": [
    {
     "data": {
      "text/plain": [
       "88005"
      ]
     },
     "execution_count": 4,
     "metadata": {},
     "output_type": "execute_result"
    }
   ],
   "source": [
    "# Checking for missing data\n",
    "np.isnan(raw_data).sum()"
   ]
  },
  {
   "cell_type": "markdown",
   "id": "249c8406-2e44-4100-9eb4-412b5f95bb90",
   "metadata": {},
   "source": [
    "**Since all string data in our dataset are represented by \"nan\". we can create a variable and attribute a value of the maximum numurical data + 1**"
   ]
  },
  {
   "cell_type": "code",
   "execution_count": 5,
   "id": "4be4c8e1-3fa0-496f-bc0a-d8dda27c2e87",
   "metadata": {},
   "outputs": [
    {
     "data": {
      "text/plain": [
       "68616520.0"
      ]
     },
     "execution_count": 5,
     "metadata": {},
     "output_type": "execute_result"
    }
   ],
   "source": [
    "#creating a temporary filler\n",
    "\n",
    "temporary_fill = np.nanmax(raw_data) + 1\n",
    "temporary_fill"
   ]
  },
  {
   "cell_type": "markdown",
   "id": "f7fd3b16-e551-4754-b476-b5f71d0f1776",
   "metadata": {},
   "source": [
    "**We take the mean of each column in the dataset**"
   ]
  },
  {
   "cell_type": "code",
   "execution_count": 6,
   "id": "671df1c3-e46a-42a7-b1d5-b7c52726145e",
   "metadata": {},
   "outputs": [
    {
     "name": "stderr",
     "output_type": "stream",
     "text": [
      "C:\\Users\\davsh\\AppData\\Local\\Temp\\ipykernel_16396\\2836188066.py:1: RuntimeWarning: Mean of empty slice\n",
      "  temporary_mean = np.nanmean(raw_data, axis = 0)\n"
     ]
    },
    {
     "data": {
      "text/plain": [
       "array([54015809.19,         nan,    15273.46,         nan,    15311.04,         nan,       16.62,\n",
       "            440.92,         nan,         nan,         nan,         nan,         nan,     3143.85])"
      ]
     },
     "execution_count": 6,
     "metadata": {},
     "output_type": "execute_result"
    }
   ],
   "source": [
    "temporary_mean = np.nanmean(raw_data, axis = 0)\n",
    "temporary_mean"
   ]
  },
  {
   "cell_type": "code",
   "execution_count": 7,
   "id": "eae38860-f42d-4e88-8ce7-cd2609aaec2d",
   "metadata": {},
   "outputs": [
    {
     "name": "stderr",
     "output_type": "stream",
     "text": [
      "C:\\Users\\davsh\\AppData\\Local\\Temp\\ipykernel_16396\\3017069630.py:1: RuntimeWarning: All-NaN slice encountered\n",
      "  temporary_stat = np.array([np.nanmin(raw_data, axis = 0), np.nanmean(raw_data, axis = 0), np.nanmax(raw_data, axis = 0)])\n",
      "C:\\Users\\davsh\\AppData\\Local\\Temp\\ipykernel_16396\\3017069630.py:1: RuntimeWarning: Mean of empty slice\n",
      "  temporary_stat = np.array([np.nanmin(raw_data, axis = 0), np.nanmean(raw_data, axis = 0), np.nanmax(raw_data, axis = 0)])\n"
     ]
    },
    {
     "data": {
      "text/plain": [
       "array([[  373332.  ,         nan,     1000.  ,         nan,     1000.  ,         nan,        6.  ,\n",
       "              31.42,         nan,         nan,         nan,         nan,         nan,        0.  ],\n",
       "       [54015809.19,         nan,    15273.46,         nan,    15311.04,         nan,       16.62,\n",
       "             440.92,         nan,         nan,         nan,         nan,         nan,     3143.85],\n",
       "       [68616519.  ,         nan,    35000.  ,         nan,    35000.  ,         nan,       28.99,\n",
       "            1372.97,         nan,         nan,         nan,         nan,         nan,    41913.62]])"
      ]
     },
     "execution_count": 7,
     "metadata": {},
     "output_type": "execute_result"
    }
   ],
   "source": [
    "temporary_stat = np.array([np.nanmin(raw_data, axis = 0), np.nanmean(raw_data, axis = 0), np.nanmax(raw_data, axis = 0)])\n",
    "temporary_stat"
   ]
  },
  {
   "cell_type": "markdown",
   "id": "0af996f0-3419-456b-904a-e1ff47dbcab1",
   "metadata": {},
   "source": [
    "**Now we can easily differential and identify the strings columns from the numerical columns**"
   ]
  },
  {
   "cell_type": "code",
   "execution_count": 8,
   "id": "d7d32f6d-9799-4574-aa9b-694d2698a634",
   "metadata": {},
   "outputs": [
    {
     "data": {
      "text/plain": [
       "array([ 1,  3,  5,  8,  9, 10, 11, 12], dtype=int64)"
      ]
     },
     "execution_count": 8,
     "metadata": {},
     "output_type": "execute_result"
    }
   ],
   "source": [
    "# identifying the strings columns\n",
    "column_strings = np.argwhere(np.isnan(temporary_mean)).squeeze()\n",
    "column_strings"
   ]
  },
  {
   "cell_type": "code",
   "execution_count": 9,
   "id": "949e4691-6d13-4780-955b-3bb6bd6d087b",
   "metadata": {},
   "outputs": [
    {
     "data": {
      "text/plain": [
       "array([ 0,  2,  4,  6,  7, 13], dtype=int64)"
      ]
     },
     "execution_count": 9,
     "metadata": {},
     "output_type": "execute_result"
    }
   ],
   "source": [
    "# identifying the numeric columns\n",
    "column_numeric = np.argwhere(np.isnan(temporary_mean) == False).squeeze()\n",
    "column_numeric"
   ]
  },
  {
   "cell_type": "markdown",
   "id": "f991d55e-f98b-4483-8d40-bcc963b1c18f",
   "metadata": {},
   "source": [
    "**Let's now create a list of only strings and numerical columns**"
   ]
  },
  {
   "cell_type": "code",
   "execution_count": 10,
   "id": "03052d1a-837a-4703-9de0-add78722879e",
   "metadata": {},
   "outputs": [
    {
     "data": {
      "text/plain": [
       "array([['May-15', 'Current', '36 months', ..., 'Verified',\n",
       "        'https://www.lendingclub.com/browse/loanDetail.action?loan_id=48010226', 'CA'],\n",
       "       ['', 'Current', '36 months', ..., 'Source Verified',\n",
       "        'https://www.lendingclub.com/browse/loanDetail.action?loan_id=57693261', 'NY'],\n",
       "       ['Sep-15', 'Current', '36 months', ..., 'Verified',\n",
       "        'https://www.lendingclub.com/browse/loanDetail.action?loan_id=59432726', 'PA'],\n",
       "       ...,\n",
       "       ['Jun-15', 'Current', '36 months', ..., 'Source Verified',\n",
       "        'https://www.lendingclub.com/browse/loanDetail.action?loan_id=50415990', 'CA'],\n",
       "       ['Apr-15', 'Current', '36 months', ..., 'Source Verified',\n",
       "        'https://www.lendingclub.com/browse/loanDetail.action?loan_id=46154151', 'OH'],\n",
       "       ['Dec-15', 'Current', '36 months', ..., '',\n",
       "        'https://www.lendingclub.com/browse/loanDetail.action?loan_id=66055249', 'IL']],\n",
       "      dtype='<U69')"
      ]
     },
     "execution_count": 10,
     "metadata": {},
     "output_type": "execute_result"
    }
   ],
   "source": [
    "# dataset for only strings related columns\n",
    "loan_data_strings = np.genfromtxt('loan-data.csv',\n",
    "                                  delimiter = ';',\n",
    "                                  autostrip = True,\n",
    "                                  skip_header = 1,\n",
    "                                  usecols = column_strings,\n",
    "                                  dtype = 'str')\n",
    "\n",
    "loan_data_strings"
   ]
  },
  {
   "cell_type": "code",
   "execution_count": 11,
   "id": "fff182ea-270b-4f4c-8ca8-90c47d8d7634",
   "metadata": {},
   "outputs": [
    {
     "data": {
      "text/plain": [
       "array([[48010226,    35000,    35000,       13,     1184,     9452],\n",
       "       [57693261,    30000,    30000, 68616520,      938,     4679],\n",
       "       [59432726,    15000,    15000, 68616520,      494,     1969],\n",
       "       ...,\n",
       "       [50415990,    10000,    10000, 68616520, 68616520,     2185],\n",
       "       [46154151, 68616520,    10000,       16,      354,     3199],\n",
       "       [66055249,    10000,    10000, 68616520,      309,      301]])"
      ]
     },
     "execution_count": 11,
     "metadata": {},
     "output_type": "execute_result"
    }
   ],
   "source": [
    "# Dataset for numeric related data\n",
    "loan_data_numeric = np.genfromtxt('loan-data.csv',\n",
    "                                  delimiter = ';',\n",
    "                                  autostrip = True,\n",
    "                                  skip_header = 1,\n",
    "                                  usecols = column_numeric,\n",
    "                                  dtype = 'int',\n",
    "                                  filling_values = temporary_fill)\n",
    "\n",
    "loan_data_numeric"
   ]
  },
  {
   "cell_type": "markdown",
   "id": "23e8c5a9-10bf-472b-af48-c1f3fe541237",
   "metadata": {},
   "source": [
    "**Also, we need to identify and differential column headers for numerical and strings data**"
   ]
  },
  {
   "cell_type": "code",
   "execution_count": 12,
   "id": "9fd97220-0d9a-404f-9a2f-93311fa8ed0c",
   "metadata": {},
   "outputs": [
    {
     "data": {
      "text/plain": [
       "array(['id', 'issue_d', 'loan_amnt', 'loan_status', 'funded_amnt', 'term', 'int_rate',\n",
       "       'installment', 'grade', 'sub_grade', 'verification_status', 'url', 'addr_state',\n",
       "       'total_pymnt'], dtype='<U19')"
      ]
     },
     "execution_count": 12,
     "metadata": {},
     "output_type": "execute_result"
    }
   ],
   "source": [
    "# getting the headers for each data\n",
    "header_full = np.genfromtxt('loan-data.csv',\n",
    "                                  delimiter = ';',\n",
    "                                  autostrip = True,\n",
    "                                  skip_footer = raw_data.shape[0] ,\n",
    "                                  dtype = 'str')\n",
    "header_full"
   ]
  },
  {
   "cell_type": "code",
   "execution_count": 13,
   "id": "1bec2184-b26d-459a-b2f7-49d2540f5cf5",
   "metadata": {},
   "outputs": [],
   "source": [
    "header_strings, header_numeric = header_full[column_strings], header_full[column_numeric]"
   ]
  },
  {
   "cell_type": "code",
   "execution_count": 14,
   "id": "2f68ea6f-3c25-4e00-9f1d-b1f0db17f0e2",
   "metadata": {},
   "outputs": [
    {
     "data": {
      "text/plain": [
       "array(['issue_d', 'loan_status', 'term', 'grade', 'sub_grade', 'verification_status', 'url',\n",
       "       'addr_state'], dtype='<U19')"
      ]
     },
     "execution_count": 14,
     "metadata": {},
     "output_type": "execute_result"
    }
   ],
   "source": [
    "header_strings"
   ]
  },
  {
   "cell_type": "code",
   "execution_count": 15,
   "id": "0047be4d-13e0-4502-977c-8c1553d08eb6",
   "metadata": {},
   "outputs": [
    {
     "data": {
      "text/plain": [
       "array(['id', 'loan_amnt', 'funded_amnt', 'int_rate', 'installment', 'total_pymnt'], dtype='<U19')"
      ]
     },
     "execution_count": 15,
     "metadata": {},
     "output_type": "execute_result"
    }
   ],
   "source": [
    "header_numeric"
   ]
  },
  {
   "cell_type": "markdown",
   "id": "efef2cfa-3f21-4320-866a-2624ed725d23",
   "metadata": {},
   "source": [
    "## Checkpoint Function\n",
    "\n",
    "**For us to keep track of different stage of our work, we create a checkpoint function.** "
   ]
  },
  {
   "cell_type": "code",
   "execution_count": 16,
   "id": "12613539-5e0e-4114-bbb5-9bb8ce9922a3",
   "metadata": {},
   "outputs": [],
   "source": [
    "def checkpoint(file_name, checkpoint_header, checkpoint_data):\n",
    "    np.savez(file_name, header = checkpoint_header, data = checkpoint_data)\n",
    "    checkpoint_variable = np.load(file_name + \".npz\")\n",
    "    return checkpoint_variable"
   ]
  },
  {
   "cell_type": "code",
   "execution_count": 17,
   "id": "53af1d31-7803-477d-9797-db10584ee216",
   "metadata": {},
   "outputs": [],
   "source": [
    "checkpoint_test = checkpoint('Checkpoint-test', header_strings, loan_data_strings)"
   ]
  },
  {
   "cell_type": "code",
   "execution_count": 18,
   "id": "31f2fd63-eb00-4280-a4f9-71233c78f4bc",
   "metadata": {},
   "outputs": [
    {
     "data": {
      "text/plain": [
       "array(['issue_d', 'loan_status', 'term', 'grade', 'sub_grade', 'verification_status', 'url',\n",
       "       'addr_state'], dtype='<U19')"
      ]
     },
     "execution_count": 18,
     "metadata": {},
     "output_type": "execute_result"
    }
   ],
   "source": [
    "checkpoint_test['header']"
   ]
  },
  {
   "cell_type": "code",
   "execution_count": 19,
   "id": "b1b664c8-d36d-40a9-af1d-1b8b5e8a07a7",
   "metadata": {},
   "outputs": [
    {
     "data": {
      "text/plain": [
       "array([['May-15', 'Current', '36 months', ..., 'Verified',\n",
       "        'https://www.lendingclub.com/browse/loanDetail.action?loan_id=48010226', 'CA'],\n",
       "       ['', 'Current', '36 months', ..., 'Source Verified',\n",
       "        'https://www.lendingclub.com/browse/loanDetail.action?loan_id=57693261', 'NY'],\n",
       "       ['Sep-15', 'Current', '36 months', ..., 'Verified',\n",
       "        'https://www.lendingclub.com/browse/loanDetail.action?loan_id=59432726', 'PA'],\n",
       "       ...,\n",
       "       ['Jun-15', 'Current', '36 months', ..., 'Source Verified',\n",
       "        'https://www.lendingclub.com/browse/loanDetail.action?loan_id=50415990', 'CA'],\n",
       "       ['Apr-15', 'Current', '36 months', ..., 'Source Verified',\n",
       "        'https://www.lendingclub.com/browse/loanDetail.action?loan_id=46154151', 'OH'],\n",
       "       ['Dec-15', 'Current', '36 months', ..., '',\n",
       "        'https://www.lendingclub.com/browse/loanDetail.action?loan_id=66055249', 'IL']],\n",
       "      dtype='<U69')"
      ]
     },
     "execution_count": 19,
     "metadata": {},
     "output_type": "execute_result"
    }
   ],
   "source": [
    "checkpoint_test['data']"
   ]
  },
  {
   "cell_type": "code",
   "execution_count": 20,
   "id": "b3226e2b-76a0-4109-b477-9e23472fe45a",
   "metadata": {},
   "outputs": [
    {
     "data": {
      "text/plain": [
       "True"
      ]
     },
     "execution_count": 20,
     "metadata": {},
     "output_type": "execute_result"
    }
   ],
   "source": [
    "# Checking if the checkpoint data is same and the main data\n",
    "\n",
    "np.array_equal(checkpoint_test['data'], loan_data_strings)"
   ]
  },
  {
   "cell_type": "markdown",
   "id": "8ee0e202-1ed9-4022-99c2-cb794d5059e3",
   "metadata": {},
   "source": [
    "## Data Preprocessing"
   ]
  },
  {
   "cell_type": "markdown",
   "id": "55b327e2-b499-4f13-8dc8-9c9901627655",
   "metadata": {},
   "source": [
    "### String Columns\n",
    "\n",
    "**Let's first preprocess the strings data part of our project. We will be working with each column at a time**"
   ]
  },
  {
   "cell_type": "code",
   "execution_count": 21,
   "id": "bddd9cd8-5d6d-493b-bb0a-32b2de40f43e",
   "metadata": {},
   "outputs": [
    {
     "data": {
      "text/plain": [
       "'issue_d'"
      ]
     },
     "execution_count": 21,
     "metadata": {},
     "output_type": "execute_result"
    }
   ],
   "source": [
    "# First column\n",
    "header_strings[0]"
   ]
  },
  {
   "cell_type": "code",
   "execution_count": 22,
   "id": "8120b47b-2229-49cf-8a0d-c695a2118efa",
   "metadata": {},
   "outputs": [
    {
     "data": {
      "text/plain": [
       "'issue_data'"
      ]
     },
     "execution_count": 22,
     "metadata": {},
     "output_type": "execute_result"
    }
   ],
   "source": [
    "# remaining the column to 'issue_date'\n",
    "header_strings[0] = 'issue_data'\n",
    "header_strings[0]"
   ]
  },
  {
   "cell_type": "code",
   "execution_count": 23,
   "id": "04a98f64-a0e3-463d-8c53-10b46a85f4b9",
   "metadata": {},
   "outputs": [
    {
     "data": {
      "text/plain": [
       "array(['May-15', '', 'Sep-15', ..., 'Jun-15', 'Apr-15', 'Dec-15'], dtype='<U69')"
      ]
     },
     "execution_count": 23,
     "metadata": {},
     "output_type": "execute_result"
    }
   ],
   "source": [
    "# Let's see the data inside this column\n",
    "\n",
    "loan_data_strings[:, 0]"
   ]
  },
  {
   "cell_type": "code",
   "execution_count": 24,
   "id": "f9a7070c-6743-4780-a3b8-76acb6eb6760",
   "metadata": {},
   "outputs": [
    {
     "data": {
      "text/plain": [
       "array(['', 'Apr-15', 'Aug-15', 'Dec-15', 'Feb-15', 'Jan-15', 'Jul-15', 'Jun-15', 'Mar-15',\n",
       "       'May-15', 'Nov-15', 'Oct-15', 'Sep-15'], dtype='<U69')"
      ]
     },
     "execution_count": 24,
     "metadata": {},
     "output_type": "execute_result"
    }
   ],
   "source": [
    "np.unique(loan_data_strings[:, 0])"
   ]
  },
  {
   "cell_type": "code",
   "execution_count": 25,
   "id": "34871cc8-dc10-4319-bee7-8a50799ba010",
   "metadata": {},
   "outputs": [],
   "source": [
    "# removing the -15 from each data since we are only working on just a single year (2015) data\n",
    "\n",
    "loan_data_strings[:, 0] = np.chararray.strip(loan_data_strings[:, 0], '-15')"
   ]
  },
  {
   "cell_type": "code",
   "execution_count": 26,
   "id": "752558d2-9fb2-459c-a805-cbe931e731c5",
   "metadata": {},
   "outputs": [
    {
     "data": {
      "text/plain": [
       "array(['', 'Apr', 'Aug', 'Dec', 'Feb', 'Jan', 'Jul', 'Jun', 'Mar', 'May', 'Nov', 'Oct', 'Sep'],\n",
       "      dtype='<U69')"
      ]
     },
     "execution_count": 26,
     "metadata": {},
     "output_type": "execute_result"
    }
   ],
   "source": [
    "np.unique(loan_data_strings[:, 0])"
   ]
  },
  {
   "cell_type": "code",
   "execution_count": 27,
   "id": "9446be67-b7db-4ae3-8b59-903bd9ad9690",
   "metadata": {},
   "outputs": [],
   "source": [
    "# converting each of the data in this column in its respective month number equivalent\n",
    "\n",
    "month = ['', 'Jan', 'Feb', 'Mar', 'Apr', 'May', 'Jun', 'Jul', 'Aug', 'Sep', 'Oct', 'Nov', 'Dec']\n",
    "for i in range(13):\n",
    "    loan_data_strings[:, 0] = np.where(loan_data_strings[:, 0] == month[i], \n",
    "                                      i,\n",
    "                                      loan_data_strings[:, 0])"
   ]
  },
  {
   "cell_type": "code",
   "execution_count": 28,
   "id": "9dd96978-c581-4313-a8fe-34059362598c",
   "metadata": {},
   "outputs": [
    {
     "data": {
      "text/plain": [
       "array(['0', '1', '10', '11', '12', '2', '3', '4', '5', '6', '7', '8', '9'], dtype='<U69')"
      ]
     },
     "execution_count": 28,
     "metadata": {},
     "output_type": "execute_result"
    }
   ],
   "source": [
    "np.unique(loan_data_strings[:, 0])"
   ]
  },
  {
   "cell_type": "code",
   "execution_count": 29,
   "id": "1ee17d47-7996-44be-bde9-60ee2d9464a4",
   "metadata": {},
   "outputs": [
    {
     "data": {
      "text/plain": [
       "'loan_status'"
      ]
     },
     "execution_count": 29,
     "metadata": {},
     "output_type": "execute_result"
    }
   ],
   "source": [
    "# Second column\n",
    "header_strings[1]"
   ]
  },
  {
   "cell_type": "code",
   "execution_count": 30,
   "id": "dbb9e7a4-65ce-4c80-9605-ac420a9c1627",
   "metadata": {},
   "outputs": [
    {
     "data": {
      "text/plain": [
       "array(['Current', 'Current', 'Current', ..., 'Current', 'Current', 'Current'], dtype='<U69')"
      ]
     },
     "execution_count": 30,
     "metadata": {},
     "output_type": "execute_result"
    }
   ],
   "source": [
    "loan_data_strings[:, 1]"
   ]
  },
  {
   "cell_type": "code",
   "execution_count": 31,
   "id": "a8e25431-4f06-4758-ba93-2592c203646b",
   "metadata": {},
   "outputs": [
    {
     "data": {
      "text/plain": [
       "array(['', 'Charged Off', 'Current', 'Default', 'Fully Paid', 'In Grace Period', 'Issued',\n",
       "       'Late (16-30 days)', 'Late (31-120 days)'], dtype='<U69')"
      ]
     },
     "execution_count": 31,
     "metadata": {},
     "output_type": "execute_result"
    }
   ],
   "source": [
    "np.unique(loan_data_strings[:, 1])"
   ]
  },
  {
   "cell_type": "code",
   "execution_count": 32,
   "id": "b170e95f-88d9-49fc-95b6-820041d03e51",
   "metadata": {},
   "outputs": [],
   "source": [
    "# Categorizing this column into good(1) and bad(0) that where ['Current', 'Fully Paid', 'In Grace Period', 'Issued' 'Late(16-30 days')] \n",
    "# are tag as good and the rest as bad\n",
    "bad_status = ['', 'Charged Off', 'Default', 'Late (310-120 days)']\n",
    "loan_data_strings[:, 1] = np.where(np.isin(loan_data_strings[:, 1], bad_status), \n",
    "                                  0,\n",
    "                                  1)"
   ]
  },
  {
   "cell_type": "code",
   "execution_count": 33,
   "id": "7d235b58-2a3d-47f0-af77-4e127287bf13",
   "metadata": {},
   "outputs": [
    {
     "data": {
      "text/plain": [
       "array(['0', '1'], dtype='<U69')"
      ]
     },
     "execution_count": 33,
     "metadata": {},
     "output_type": "execute_result"
    }
   ],
   "source": [
    "np.unique(loan_data_strings[:, 1])"
   ]
  },
  {
   "cell_type": "code",
   "execution_count": 34,
   "id": "50311e70-def8-4570-ae04-3efd837c43c4",
   "metadata": {},
   "outputs": [
    {
     "data": {
      "text/plain": [
       "'term'"
      ]
     },
     "execution_count": 34,
     "metadata": {},
     "output_type": "execute_result"
    }
   ],
   "source": [
    "# Third column\n",
    "header_strings[2]"
   ]
  },
  {
   "cell_type": "code",
   "execution_count": 35,
   "id": "30b5b3b0-8963-421d-b8a7-35e2df00bad3",
   "metadata": {},
   "outputs": [
    {
     "data": {
      "text/plain": [
       "'term_month'"
      ]
     },
     "execution_count": 35,
     "metadata": {},
     "output_type": "execute_result"
    }
   ],
   "source": [
    "header_strings[2] = 'term_month'\n",
    "header_strings[2]"
   ]
  },
  {
   "cell_type": "code",
   "execution_count": 36,
   "id": "ab778888-af73-4863-b58d-380f2f42411c",
   "metadata": {},
   "outputs": [
    {
     "data": {
      "text/plain": [
       "array(['36 months', '36 months', '36 months', ..., '36 months', '36 months', '36 months'],\n",
       "      dtype='<U69')"
      ]
     },
     "execution_count": 36,
     "metadata": {},
     "output_type": "execute_result"
    }
   ],
   "source": [
    "loan_data_strings[:, 2]"
   ]
  },
  {
   "cell_type": "code",
   "execution_count": 37,
   "id": "ca374064-9cd4-4c98-81a6-9a9a34e1a17b",
   "metadata": {},
   "outputs": [
    {
     "data": {
      "text/plain": [
       "array(['', '36 months', '60 months'], dtype='<U69')"
      ]
     },
     "execution_count": 37,
     "metadata": {},
     "output_type": "execute_result"
    }
   ],
   "source": [
    "np.unique(loan_data_strings[:, 2])"
   ]
  },
  {
   "cell_type": "code",
   "execution_count": 38,
   "id": "8813fa47-9b74-4dfd-8591-0f4fe6d9a93b",
   "metadata": {},
   "outputs": [],
   "source": [
    "# removing the months to just leave only the number\n",
    "loan_data_strings[:, 2] = np.chararray.strip(loan_data_strings[:, 2], ' months')"
   ]
  },
  {
   "cell_type": "code",
   "execution_count": 39,
   "id": "da8ef6cb-3af2-46c0-b60e-161a9a39511c",
   "metadata": {},
   "outputs": [
    {
     "data": {
      "text/plain": [
       "array(['', '36', '60'], dtype='<U69')"
      ]
     },
     "execution_count": 39,
     "metadata": {},
     "output_type": "execute_result"
    }
   ],
   "source": [
    "np.unique(loan_data_strings[:, 2])"
   ]
  },
  {
   "cell_type": "code",
   "execution_count": 40,
   "id": "6680d702-e660-42ff-ab84-c61e6257d16e",
   "metadata": {},
   "outputs": [],
   "source": [
    "# fixing the missing data and converting to int\n",
    "loan_data_strings[:, 2] = np.where(loan_data_strings[:, 2] == '',\n",
    "                                   60, \n",
    "                                   loan_data_strings[:, 2])"
   ]
  },
  {
   "cell_type": "code",
   "execution_count": 41,
   "id": "8ec34f58-15c8-4b86-bfe1-4deaf16753df",
   "metadata": {},
   "outputs": [
    {
     "data": {
      "text/plain": [
       "array(['36', '60'], dtype='<U69')"
      ]
     },
     "execution_count": 41,
     "metadata": {},
     "output_type": "execute_result"
    }
   ],
   "source": [
    "np.unique(loan_data_strings[:, 2])"
   ]
  },
  {
   "cell_type": "code",
   "execution_count": 42,
   "id": "1c7c05c2-da04-4b2e-9c9a-e8d92392ce97",
   "metadata": {},
   "outputs": [
    {
     "data": {
      "text/plain": [
       "'grade'"
      ]
     },
     "execution_count": 42,
     "metadata": {},
     "output_type": "execute_result"
    }
   ],
   "source": [
    "# Fourth column\n",
    "header_strings[3]"
   ]
  },
  {
   "cell_type": "code",
   "execution_count": 43,
   "id": "8be45b81-fe90-437a-b45b-42294ebeff04",
   "metadata": {},
   "outputs": [
    {
     "data": {
      "text/plain": [
       "array(['C', 'A', 'B', ..., 'A', 'D', 'A'], dtype='<U69')"
      ]
     },
     "execution_count": 43,
     "metadata": {},
     "output_type": "execute_result"
    }
   ],
   "source": [
    "loan_data_strings[:, 3]"
   ]
  },
  {
   "cell_type": "code",
   "execution_count": 44,
   "id": "94e4aa4a-9539-4e55-9d8c-b254b48d5761",
   "metadata": {},
   "outputs": [
    {
     "data": {
      "text/plain": [
       "array(['', 'A', 'B', 'C', 'D', 'E', 'F', 'G'], dtype='<U69')"
      ]
     },
     "execution_count": 44,
     "metadata": {},
     "output_type": "execute_result"
    }
   ],
   "source": [
    "np.unique(loan_data_strings[:, 3])"
   ]
  },
  {
   "cell_type": "code",
   "execution_count": 45,
   "id": "aeba69d2-73ce-4c6d-baf0-e04f5c2bd45b",
   "metadata": {},
   "outputs": [
    {
     "data": {
      "text/plain": [
       "'sub_grade'"
      ]
     },
     "execution_count": 45,
     "metadata": {},
     "output_type": "execute_result"
    }
   ],
   "source": [
    "# There is a relationship between the grade column and the subgrade column\n",
    "\n",
    "header_strings[4]"
   ]
  },
  {
   "cell_type": "code",
   "execution_count": 46,
   "id": "f49dedaa-b75b-4131-a7d4-fd9ce48ab0e8",
   "metadata": {},
   "outputs": [
    {
     "data": {
      "text/plain": [
       "array(['C3', 'A5', 'B5', ..., 'A5', 'D2', 'A4'], dtype='<U69')"
      ]
     },
     "execution_count": 46,
     "metadata": {},
     "output_type": "execute_result"
    }
   ],
   "source": [
    "loan_data_strings[:, 4]"
   ]
  },
  {
   "cell_type": "code",
   "execution_count": 47,
   "id": "ee1627a0-ee44-4b3b-9cab-2a6bdc05317a",
   "metadata": {},
   "outputs": [
    {
     "data": {
      "text/plain": [
       "array(['', 'A1', 'A2', 'A3', 'A4', 'A5', 'B1', 'B2', 'B3', 'B4', 'B5', 'C1', 'C2', 'C3', 'C4',\n",
       "       'C5', 'D1', 'D2', 'D3', 'D4', 'D5', 'E1', 'E2', 'E3', 'E4', 'E5', 'F1', 'F2', 'F3', 'F4',\n",
       "       'F5', 'G1', 'G2', 'G3', 'G4', 'G5'], dtype='<U69')"
      ]
     },
     "execution_count": 47,
     "metadata": {},
     "output_type": "execute_result"
    }
   ],
   "source": [
    "np.unique(loan_data_strings[:, 4])"
   ]
  },
  {
   "cell_type": "code",
   "execution_count": 48,
   "id": "1d2c4b16-00a6-485e-ba96-56a45120768e",
   "metadata": {},
   "outputs": [],
   "source": [
    "# Using the grade column to populate the missing data in the sub-grade column\n",
    "for i in np.unique(loan_data_strings[:, 3])[1:]:\n",
    "    loan_data_strings[:, 4]= np.where((loan_data_strings[:, 4] == '') & (loan_data_strings[:, 3] == i), \n",
    "                    i + '5',\n",
    "                    loan_data_strings[:, 4])"
   ]
  },
  {
   "cell_type": "code",
   "execution_count": 49,
   "id": "695e407a-b0c0-47d5-a79e-6ec1483b3633",
   "metadata": {},
   "outputs": [
    {
     "data": {
      "text/plain": [
       "(array(['', 'A1', 'A2', 'A3', 'A4', 'A5', 'B1', 'B2', 'B3', 'B4', 'B5', 'C1', 'C2', 'C3', 'C4',\n",
       "        'C5', 'D1', 'D2', 'D3', 'D4', 'D5', 'E1', 'E2', 'E3', 'E4', 'E5', 'F1', 'F2', 'F3', 'F4',\n",
       "        'F5', 'G1', 'G2', 'G3', 'G4', 'G5'], dtype='<U69'),\n",
       " array([  9, 285, 278, 239, 323, 592, 509, 517, 530, 553, 633, 629, 567, 586, 564, 577, 391, 267,\n",
       "        250, 255, 288, 235, 162, 171, 139, 160,  94,  52,  34,  43,  24,  19,  10,   3,   7,   5],\n",
       "       dtype=int64))"
      ]
     },
     "execution_count": 49,
     "metadata": {},
     "output_type": "execute_result"
    }
   ],
   "source": [
    "np.unique(loan_data_strings[:, 4], return_counts = True)"
   ]
  },
  {
   "cell_type": "code",
   "execution_count": 50,
   "id": "4057bfc1-8dce-4e9e-b53c-a3135511bd57",
   "metadata": {},
   "outputs": [],
   "source": [
    "# We still have 9 missing data and we can just assign 'H1' to them\n",
    "loan_data_strings[:, 4] = np.where(loan_data_strings[:, 4] == '',\n",
    "                                   'H1',\n",
    "                                   loan_data_strings[:, 4])"
   ]
  },
  {
   "cell_type": "code",
   "execution_count": 51,
   "id": "2ef28e25-0fde-4781-bd95-c36ba46a5926",
   "metadata": {},
   "outputs": [
    {
     "data": {
      "text/plain": [
       "(array(['A1', 'A2', 'A3', 'A4', 'A5', 'B1', 'B2', 'B3', 'B4', 'B5', 'C1', 'C2', 'C3', 'C4', 'C5',\n",
       "        'D1', 'D2', 'D3', 'D4', 'D5', 'E1', 'E2', 'E3', 'E4', 'E5', 'F1', 'F2', 'F3', 'F4', 'F5',\n",
       "        'G1', 'G2', 'G3', 'G4', 'G5', 'H1'], dtype='<U69'),\n",
       " array([285, 278, 239, 323, 592, 509, 517, 530, 553, 633, 629, 567, 586, 564, 577, 391, 267, 250,\n",
       "        255, 288, 235, 162, 171, 139, 160,  94,  52,  34,  43,  24,  19,  10,   3,   7,   5,   9],\n",
       "       dtype=int64))"
      ]
     },
     "execution_count": 51,
     "metadata": {},
     "output_type": "execute_result"
    }
   ],
   "source": [
    "np.unique(loan_data_strings[:, 4], return_counts = True)"
   ]
  },
  {
   "cell_type": "code",
   "execution_count": 52,
   "id": "db687938-0507-4971-a76c-a3610d611573",
   "metadata": {},
   "outputs": [],
   "source": [
    "# We can now effectively delete the grade column\n",
    "\n",
    "loan_data_strings = np.delete(loan_data_strings, 3, axis = 1)\n",
    "header_strings = np.delete(header_strings, 3)"
   ]
  },
  {
   "cell_type": "code",
   "execution_count": 53,
   "id": "9fbd37b0-57c1-4876-a68f-a5e42aa5cf18",
   "metadata": {},
   "outputs": [
    {
     "data": {
      "text/plain": [
       "array(['C3', 'A5', 'B5', ..., 'A5', 'D2', 'A4'], dtype='<U69')"
      ]
     },
     "execution_count": 53,
     "metadata": {},
     "output_type": "execute_result"
    }
   ],
   "source": [
    "loan_data_strings[:, 3]"
   ]
  },
  {
   "cell_type": "code",
   "execution_count": 54,
   "id": "6021868f-c2f3-48e0-b6b4-27078c7b05be",
   "metadata": {},
   "outputs": [],
   "source": [
    "# Unpacking the sub-grade column into key-value pairs\n",
    "keys = np.unique(loan_data_strings[:, 3])\n",
    "values = list(range(1, len(np.unique(loan_data_strings[:, 3])) + 1))\n",
    "dict_sub_grade = dict(zip(keys, values))"
   ]
  },
  {
   "cell_type": "code",
   "execution_count": 55,
   "id": "f93e89bb-beb1-4bf3-9354-326c37eb7f21",
   "metadata": {},
   "outputs": [
    {
     "data": {
      "text/plain": [
       "{'A1': 1,\n",
       " 'A2': 2,\n",
       " 'A3': 3,\n",
       " 'A4': 4,\n",
       " 'A5': 5,\n",
       " 'B1': 6,\n",
       " 'B2': 7,\n",
       " 'B3': 8,\n",
       " 'B4': 9,\n",
       " 'B5': 10,\n",
       " 'C1': 11,\n",
       " 'C2': 12,\n",
       " 'C3': 13,\n",
       " 'C4': 14,\n",
       " 'C5': 15,\n",
       " 'D1': 16,\n",
       " 'D2': 17,\n",
       " 'D3': 18,\n",
       " 'D4': 19,\n",
       " 'D5': 20,\n",
       " 'E1': 21,\n",
       " 'E2': 22,\n",
       " 'E3': 23,\n",
       " 'E4': 24,\n",
       " 'E5': 25,\n",
       " 'F1': 26,\n",
       " 'F2': 27,\n",
       " 'F3': 28,\n",
       " 'F4': 29,\n",
       " 'F5': 30,\n",
       " 'G1': 31,\n",
       " 'G2': 32,\n",
       " 'G3': 33,\n",
       " 'G4': 34,\n",
       " 'G5': 35,\n",
       " 'H1': 36}"
      ]
     },
     "execution_count": 55,
     "metadata": {},
     "output_type": "execute_result"
    }
   ],
   "source": [
    "dict_sub_grade"
   ]
  },
  {
   "cell_type": "code",
   "execution_count": 56,
   "id": "b8de71ee-285f-47e8-ba6c-e9e73372f167",
   "metadata": {},
   "outputs": [],
   "source": [
    "for i in np.unique(loan_data_strings[:, 3]):\n",
    "    loan_data_strings[:, 3] = np.where(loan_data_strings[:, 3] == i, \n",
    "                                       dict_sub_grade[i],\n",
    "                                       loan_data_strings[:, 3])"
   ]
  },
  {
   "cell_type": "code",
   "execution_count": 57,
   "id": "98892d62-ae4a-4379-b875-f695e5eb9e85",
   "metadata": {},
   "outputs": [
    {
     "data": {
      "text/plain": [
       "array(['1', '10', '11', '12', '13', '14', '15', '16', '17', '18', '19', '2', '20', '21', '22',\n",
       "       '23', '24', '25', '26', '27', '28', '29', '3', '30', '31', '32', '33', '34', '35', '36',\n",
       "       '4', '5', '6', '7', '8', '9'], dtype='<U69')"
      ]
     },
     "execution_count": 57,
     "metadata": {},
     "output_type": "execute_result"
    }
   ],
   "source": [
    "np.unique(loan_data_strings[:, 3])"
   ]
  },
  {
   "cell_type": "code",
   "execution_count": 58,
   "id": "f0fc272a-1c7f-45cb-9b67-35048319a2db",
   "metadata": {},
   "outputs": [
    {
     "data": {
      "text/plain": [
       "'verification_status'"
      ]
     },
     "execution_count": 58,
     "metadata": {},
     "output_type": "execute_result"
    }
   ],
   "source": [
    "# Forth Column\n",
    "header_strings[4]"
   ]
  },
  {
   "cell_type": "code",
   "execution_count": 59,
   "id": "5478108e-2945-42ed-8a36-ef3b2dcd66ae",
   "metadata": {},
   "outputs": [
    {
     "data": {
      "text/plain": [
       "array(['Verified', 'Source Verified', 'Verified', ..., 'Source Verified', 'Source Verified', ''],\n",
       "      dtype='<U69')"
      ]
     },
     "execution_count": 59,
     "metadata": {},
     "output_type": "execute_result"
    }
   ],
   "source": [
    "loan_data_strings[:, 4]"
   ]
  },
  {
   "cell_type": "code",
   "execution_count": 60,
   "id": "b2b8aa1a-cbd5-434a-80e5-6d5f57651284",
   "metadata": {},
   "outputs": [
    {
     "data": {
      "text/plain": [
       "array(['', 'Not Verified', 'Source Verified', 'Verified'], dtype='<U69')"
      ]
     },
     "execution_count": 60,
     "metadata": {},
     "output_type": "execute_result"
    }
   ],
   "source": [
    "np.unique(loan_data_strings[:, 4])"
   ]
  },
  {
   "cell_type": "code",
   "execution_count": 61,
   "id": "76749c7f-964b-45db-b335-9aafe5109c56",
   "metadata": {},
   "outputs": [],
   "source": [
    "# Formating the verification status into dummie variables(0, 1)\n",
    "not_verified = ['', 'Not Verified']\n",
    "loan_data_strings[:, 4] = np.where(np.isin(loan_data_strings[:, 4], not_verified),\n",
    "                                  0,\n",
    "                                  1)"
   ]
  },
  {
   "cell_type": "code",
   "execution_count": 62,
   "id": "f40dd051-e4b7-43c0-a97a-1573631c5665",
   "metadata": {},
   "outputs": [
    {
     "data": {
      "text/plain": [
       "array(['0', '1'], dtype='<U69')"
      ]
     },
     "execution_count": 62,
     "metadata": {},
     "output_type": "execute_result"
    }
   ],
   "source": [
    "np.unique(loan_data_strings[:, 4])"
   ]
  },
  {
   "cell_type": "code",
   "execution_count": 63,
   "id": "52ccfe68-d0c7-43b6-9eb6-b96efe66aa1e",
   "metadata": {},
   "outputs": [
    {
     "data": {
      "text/plain": [
       "'url'"
      ]
     },
     "execution_count": 63,
     "metadata": {},
     "output_type": "execute_result"
    }
   ],
   "source": [
    "# Fifth column\n",
    "header_strings[5]"
   ]
  },
  {
   "cell_type": "code",
   "execution_count": 64,
   "id": "e9dfef62-4966-4fcc-8254-19b3a9791930",
   "metadata": {},
   "outputs": [
    {
     "data": {
      "text/plain": [
       "array(['https://www.lendingclub.com/browse/loanDetail.action?loan_id=48010226',\n",
       "       'https://www.lendingclub.com/browse/loanDetail.action?loan_id=57693261',\n",
       "       'https://www.lendingclub.com/browse/loanDetail.action?loan_id=59432726', ...,\n",
       "       'https://www.lendingclub.com/browse/loanDetail.action?loan_id=50415990',\n",
       "       'https://www.lendingclub.com/browse/loanDetail.action?loan_id=46154151',\n",
       "       'https://www.lendingclub.com/browse/loanDetail.action?loan_id=66055249'], dtype='<U69')"
      ]
     },
     "execution_count": 64,
     "metadata": {},
     "output_type": "execute_result"
    }
   ],
   "source": [
    "loan_data_strings[:, 5]"
   ]
  },
  {
   "cell_type": "markdown",
   "id": "8e455c4c-ee1b-438a-95e5-0a46965da05f",
   "metadata": {},
   "source": [
    "**The url column contain almost the same data throughout the dataset only for it last set of numbers which indicate the users id and this has \n",
    "been capture in another column. So we delete the url column**"
   ]
  },
  {
   "cell_type": "code",
   "execution_count": 65,
   "id": "85cf91e7-9a2e-4b65-b410-fb21f8442b4c",
   "metadata": {},
   "outputs": [],
   "source": [
    "loan_data_strings = np.delete(loan_data_strings, 5, axis = 1)\n",
    "header_strings = np.delete(header_strings, 5)"
   ]
  },
  {
   "cell_type": "code",
   "execution_count": 66,
   "id": "ed7f3f5f-7f0f-4a1d-84d9-81558ab3328f",
   "metadata": {},
   "outputs": [
    {
     "data": {
      "text/plain": [
       "'addr_state'"
      ]
     },
     "execution_count": 66,
     "metadata": {},
     "output_type": "execute_result"
    }
   ],
   "source": [
    "header_strings[5]"
   ]
  },
  {
   "cell_type": "code",
   "execution_count": 67,
   "id": "814086f9-985c-445c-b4d8-51293c799ae9",
   "metadata": {},
   "outputs": [
    {
     "data": {
      "text/plain": [
       "array(['CA', 'NY', 'PA', ..., 'CA', 'OH', 'IL'], dtype='<U69')"
      ]
     },
     "execution_count": 67,
     "metadata": {},
     "output_type": "execute_result"
    }
   ],
   "source": [
    "loan_data_strings[:, 5]"
   ]
  },
  {
   "cell_type": "code",
   "execution_count": 68,
   "id": "15858237-739a-48ed-b0db-7879a08cd8a3",
   "metadata": {},
   "outputs": [
    {
     "data": {
      "text/plain": [
       "array(['', 'AK', 'AL', 'AR', 'AZ', 'CA', 'CO', 'CT', 'DC', 'DE', 'FL', 'GA', 'HI', 'IL', 'IN',\n",
       "       'KS', 'KY', 'LA', 'MA', 'MD', 'ME', 'MI', 'MN', 'MO', 'MS', 'MT', 'NC', 'ND', 'NE', 'NH',\n",
       "       'NJ', 'NM', 'NV', 'NY', 'OH', 'OK', 'OR', 'PA', 'RI', 'SC', 'SD', 'TN', 'TX', 'UT', 'VA',\n",
       "       'VT', 'WA', 'WI', 'WV', 'WY'], dtype='<U69')"
      ]
     },
     "execution_count": 68,
     "metadata": {},
     "output_type": "execute_result"
    }
   ],
   "source": [
    "np.unique(loan_data_strings[:, 5])"
   ]
  },
  {
   "cell_type": "code",
   "execution_count": 69,
   "id": "35cd673e-92ce-4611-be47-96c05d6892c4",
   "metadata": {},
   "outputs": [
    {
     "data": {
      "text/plain": [
       "(array(['', 'AK', 'AL', 'AR', 'AZ', 'CA', 'CO', 'CT', 'DC', 'DE', 'FL', 'GA', 'HI', 'IL', 'IN',\n",
       "        'KS', 'KY', 'LA', 'MA', 'MD', 'ME', 'MI', 'MN', 'MO', 'MS', 'MT', 'NC', 'ND', 'NE', 'NH',\n",
       "        'NJ', 'NM', 'NV', 'NY', 'OH', 'OK', 'OR', 'PA', 'RI', 'SC', 'SD', 'TN', 'TX', 'UT', 'VA',\n",
       "        'VT', 'WA', 'WI', 'WV', 'WY'], dtype='<U69'),\n",
       " array([ 500,   26,  119,   74,  220, 1336,  201,  143,   27,   27,  690,  321,   44,  389,  152,\n",
       "          84,   84,  116,  210,  222,   10,  267,  156,  160,   61,   28,  261,   16,   25,   58,\n",
       "         341,   57,  130,  777,  312,   83,  108,  320,   40,  107,   24,  143,  758,   74,  242,\n",
       "          17,  216,  148,   49,   27], dtype=int64))"
      ]
     },
     "execution_count": 69,
     "metadata": {},
     "output_type": "execute_result"
    }
   ],
   "source": [
    "np.unique(loan_data_strings[:, 5], return_counts = True)"
   ]
  },
  {
   "cell_type": "code",
   "execution_count": 70,
   "id": "c49ec0c0-ebfa-49b6-98d0-1965bf8a05d3",
   "metadata": {},
   "outputs": [
    {
     "data": {
      "text/plain": [
       "50"
      ]
     },
     "execution_count": 70,
     "metadata": {},
     "output_type": "execute_result"
    }
   ],
   "source": [
    "np.unique(loan_data_strings[:, 5]).size"
   ]
  },
  {
   "cell_type": "code",
   "execution_count": 71,
   "id": "722f69cf-cfd9-4467-aa09-19fab3d491fc",
   "metadata": {},
   "outputs": [
    {
     "data": {
      "text/plain": [
       "(array(['CA', 'NY', 'TX', 'FL', '', 'IL', 'NJ', 'GA', 'PA', 'OH', 'MI', 'NC', 'VA', 'MD', 'AZ',\n",
       "        'WA', 'MA', 'CO', 'MO', 'MN', 'IN', 'WI', 'CT', 'TN', 'NV', 'AL', 'LA', 'OR', 'SC', 'KY',\n",
       "        'KS', 'OK', 'UT', 'AR', 'MS', 'NH', 'NM', 'WV', 'HI', 'RI', 'MT', 'DE', 'DC', 'WY', 'AK',\n",
       "        'NE', 'SD', 'VT', 'ND', 'ME'], dtype='<U69'),\n",
       " array([1336,  777,  758,  690,  500,  389,  341,  321,  320,  312,  267,  261,  242,  222,  220,\n",
       "         216,  210,  201,  160,  156,  152,  148,  143,  143,  130,  119,  116,  108,  107,   84,\n",
       "          84,   83,   74,   74,   61,   58,   57,   49,   44,   40,   28,   27,   27,   27,   26,\n",
       "          25,   24,   17,   16,   10], dtype=int64))"
      ]
     },
     "execution_count": 71,
     "metadata": {},
     "output_type": "execute_result"
    }
   ],
   "source": [
    "state_name, state_count = np.unique(loan_data_strings[:, 5], return_counts = True)\n",
    "state_count_sorted = np.argsort(-state_count)\n",
    "state_name[state_count_sorted], state_count[state_count_sorted]"
   ]
  },
  {
   "cell_type": "code",
   "execution_count": 72,
   "id": "76e3d400-e12d-4011-ba14-fd06be8fd1bd",
   "metadata": {},
   "outputs": [],
   "source": [
    "# filling the missing data \n",
    "loan_data_strings[:, 5] = np.where(loan_data_strings[:, 5] == '',\n",
    "                                   0, \n",
    "                                   loan_data_strings[:, 5])"
   ]
  },
  {
   "cell_type": "code",
   "execution_count": 73,
   "id": "1db3e839-f120-487e-85d9-fb02f7744bec",
   "metadata": {},
   "outputs": [
    {
     "data": {
      "text/plain": [
       "array(['0', 'AK', 'AL', 'AR', 'AZ', 'CA', 'CO', 'CT', 'DC', 'DE', 'FL', 'GA', 'HI', 'IL', 'IN',\n",
       "       'KS', 'KY', 'LA', 'MA', 'MD', 'ME', 'MI', 'MN', 'MO', 'MS', 'MT', 'NC', 'ND', 'NE', 'NH',\n",
       "       'NJ', 'NM', 'NV', 'NY', 'OH', 'OK', 'OR', 'PA', 'RI', 'SC', 'SD', 'TN', 'TX', 'UT', 'VA',\n",
       "       'VT', 'WA', 'WI', 'WV', 'WY'], dtype='<U69')"
      ]
     },
     "execution_count": 73,
     "metadata": {},
     "output_type": "execute_result"
    }
   ],
   "source": [
    "np.unique(loan_data_strings[:, 5])"
   ]
  },
  {
   "cell_type": "markdown",
   "id": "118bb4fb-7eda-434f-a7d9-fbe8b73b0ac3",
   "metadata": {},
   "source": [
    "**This addr_state column give the exact total number of states in the United States of American, So we categorize them into their geopolitical zones**"
   ]
  },
  {
   "cell_type": "code",
   "execution_count": 74,
   "id": "7d17cc3b-a6c8-4eba-b424-6596395ca4a7",
   "metadata": {},
   "outputs": [],
   "source": [
    "states_west = np.array(['WA', 'OR', 'CA', 'NV', 'ID', 'MT', 'WY', 'UT', 'CO', 'AZ', 'NM', 'HI', 'AK'])\n",
    "states_south = np.array(['TX', 'OK', 'AR', 'LA', 'MS', 'AL', 'TN', 'KY', 'FL', 'GA', 'SC', 'NC', 'VA', 'WV', 'MD', 'DE', 'DC'])\n",
    "states_midwest = np.array(['ND', 'SD', 'NE', 'KS', 'MN', 'IA', 'MO', 'WI', 'IL', 'IN', 'MI', 'OH'])\n",
    "states_east = np.array(['PA', 'NY', 'NJ', 'CT', 'MA', 'VT', 'NH', 'ME', 'RI'])"
   ]
  },
  {
   "cell_type": "code",
   "execution_count": 75,
   "id": "e70ff534-1fac-43b2-83c9-81459e10bdcb",
   "metadata": {},
   "outputs": [],
   "source": [
    "loan_data_strings[:, 5] = np.where(np.isin(loan_data_strings[:, 5], states_west), 1, loan_data_strings[:, 5])\n",
    "loan_data_strings[:, 5] = np.where(np.isin(loan_data_strings[:, 5], states_south), 2, loan_data_strings[:, 5])\n",
    "loan_data_strings[:, 5] = np.where(np.isin(loan_data_strings[:, 5], states_midwest), 3, loan_data_strings[:, 5])\n",
    "loan_data_strings[:, 5] = np.where(np.isin(loan_data_strings[:, 5], states_east), 4, loan_data_strings[:, 5])"
   ]
  },
  {
   "cell_type": "code",
   "execution_count": 76,
   "id": "bd1e0256-b4b0-4dc1-a110-977456aa1e6e",
   "metadata": {},
   "outputs": [
    {
     "data": {
      "text/plain": [
       "array(['0', '1', '2', '3', '4'], dtype='<U69')"
      ]
     },
     "execution_count": 76,
     "metadata": {},
     "output_type": "execute_result"
    }
   ],
   "source": [
    "np.unique(loan_data_strings[:, 5])"
   ]
  },
  {
   "cell_type": "code",
   "execution_count": 77,
   "id": "bf04d579-9ac8-479f-a809-8c8648d8e9d6",
   "metadata": {},
   "outputs": [
    {
     "data": {
      "text/plain": [
       "array([['5', '1', '36', '13', '1', '1'],\n",
       "       ['0', '1', '36', '5', '1', '4'],\n",
       "       ['9', '1', '36', '10', '1', '4'],\n",
       "       ...,\n",
       "       ['6', '1', '36', '5', '1', '1'],\n",
       "       ['4', '1', '36', '17', '1', '3'],\n",
       "       ['12', '1', '36', '4', '0', '3']], dtype='<U69')"
      ]
     },
     "execution_count": 77,
     "metadata": {},
     "output_type": "execute_result"
    }
   ],
   "source": [
    "loan_data_strings"
   ]
  },
  {
   "cell_type": "code",
   "execution_count": 78,
   "id": "e814ce03-8ba7-4148-b6c9-0e42d9114c69",
   "metadata": {},
   "outputs": [],
   "source": [
    "loan_data_strings = loan_data_strings.astype(int)"
   ]
  },
  {
   "cell_type": "code",
   "execution_count": 79,
   "id": "4b495231-50a6-45f0-9f4b-b0686cd71be7",
   "metadata": {},
   "outputs": [
    {
     "data": {
      "text/plain": [
       "array([[ 5,  1, 36, 13,  1,  1],\n",
       "       [ 0,  1, 36,  5,  1,  4],\n",
       "       [ 9,  1, 36, 10,  1,  4],\n",
       "       ...,\n",
       "       [ 6,  1, 36,  5,  1,  1],\n",
       "       [ 4,  1, 36, 17,  1,  3],\n",
       "       [12,  1, 36,  4,  0,  3]])"
      ]
     },
     "execution_count": 79,
     "metadata": {},
     "output_type": "execute_result"
    }
   ],
   "source": [
    "loan_data_strings"
   ]
  },
  {
   "cell_type": "markdown",
   "id": "e8f26bbc-2838-422b-bb55-f4bae8592390",
   "metadata": {},
   "source": [
    "**We have been able to preprocess the strings data columns**"
   ]
  },
  {
   "cell_type": "markdown",
   "id": "0efbd0dd-f0f2-4ab2-82fe-92f01538d6db",
   "metadata": {
    "jp-MarkdownHeadingCollapsed": true
   },
   "source": [
    "### Checkpoint"
   ]
  },
  {
   "cell_type": "code",
   "execution_count": 80,
   "id": "f126ea4f-1b0d-49ff-9d3c-ffa3bf49bab8",
   "metadata": {},
   "outputs": [],
   "source": [
    "checkpoint_strings = checkpoint(\"Checkpoint-Strings\", header_strings, loan_data_strings)"
   ]
  },
  {
   "cell_type": "code",
   "execution_count": 81,
   "id": "e4af50da-b2c8-41db-8567-13b927085b8d",
   "metadata": {},
   "outputs": [
    {
     "data": {
      "text/plain": [
       "array(['issue_data', 'loan_status', 'term_month', 'sub_grade', 'verification_status', 'addr_state'],\n",
       "      dtype='<U19')"
      ]
     },
     "execution_count": 81,
     "metadata": {},
     "output_type": "execute_result"
    }
   ],
   "source": [
    "checkpoint_strings['header']"
   ]
  },
  {
   "cell_type": "code",
   "execution_count": 82,
   "id": "ca10115c-90c5-43e6-b656-8f83bb43d435",
   "metadata": {},
   "outputs": [
    {
     "data": {
      "text/plain": [
       "array([[ 5,  1, 36, 13,  1,  1],\n",
       "       [ 0,  1, 36,  5,  1,  4],\n",
       "       [ 9,  1, 36, 10,  1,  4],\n",
       "       ...,\n",
       "       [ 6,  1, 36,  5,  1,  1],\n",
       "       [ 4,  1, 36, 17,  1,  3],\n",
       "       [12,  1, 36,  4,  0,  3]])"
      ]
     },
     "execution_count": 82,
     "metadata": {},
     "output_type": "execute_result"
    }
   ],
   "source": [
    "checkpoint_strings['data']"
   ]
  },
  {
   "cell_type": "markdown",
   "id": "9ad2d8ba-a8ac-4d87-aa73-835db2673d5b",
   "metadata": {},
   "source": [
    "### Numeric Columns\n",
    "\n",
    "**Let's now preprocess the numeric columns**"
   ]
  },
  {
   "cell_type": "code",
   "execution_count": 83,
   "id": "b55a19c6-966f-4993-bfe3-bb312b0a4477",
   "metadata": {},
   "outputs": [
    {
     "data": {
      "text/plain": [
       "array(['id', 'loan_amnt', 'funded_amnt', 'int_rate', 'installment', 'total_pymnt'], dtype='<U19')"
      ]
     },
     "execution_count": 83,
     "metadata": {},
     "output_type": "execute_result"
    }
   ],
   "source": [
    "header_numeric"
   ]
  },
  {
   "cell_type": "code",
   "execution_count": 84,
   "id": "9e44dcab-4ae0-4a31-89c0-0e909bcff9c8",
   "metadata": {},
   "outputs": [
    {
     "data": {
      "text/plain": [
       "array([[48010226,    35000,    35000,       13,     1184,     9452],\n",
       "       [57693261,    30000,    30000, 68616520,      938,     4679],\n",
       "       [59432726,    15000,    15000, 68616520,      494,     1969],\n",
       "       ...,\n",
       "       [50415990,    10000,    10000, 68616520, 68616520,     2185],\n",
       "       [46154151, 68616520,    10000,       16,      354,     3199],\n",
       "       [66055249,    10000,    10000, 68616520,      309,      301]])"
      ]
     },
     "execution_count": 84,
     "metadata": {},
     "output_type": "execute_result"
    }
   ],
   "source": [
    "loan_data_numeric"
   ]
  },
  {
   "cell_type": "code",
   "execution_count": 85,
   "id": "39599e10-dfbb-4ba3-89da-ad8404ce4e7c",
   "metadata": {},
   "outputs": [
    {
     "data": {
      "text/plain": [
       "0"
      ]
     },
     "execution_count": 85,
     "metadata": {},
     "output_type": "execute_result"
    }
   ],
   "source": [
    "# Checking for missing data\n",
    "np.isnan(loan_data_numeric).sum()"
   ]
  },
  {
   "cell_type": "markdown",
   "id": "740a9af9-4eb4-4542-9680-97809fd3cd50",
   "metadata": {},
   "source": [
    "**We can see that we don't have any missing value because we did fill all missing numeric value with the max value of the data + 1 which was 68616520**"
   ]
  },
  {
   "cell_type": "code",
   "execution_count": 86,
   "id": "34aea9fa-bd56-4d07-8582-c8d360c13abe",
   "metadata": {},
   "outputs": [
    {
     "data": {
      "text/plain": [
       "array([48010226, 57693261, 59432726, ..., 50415990, 46154151, 66055249])"
      ]
     },
     "execution_count": 86,
     "metadata": {},
     "output_type": "execute_result"
    }
   ],
   "source": [
    "loan_data_numeric[:, 0]"
   ]
  },
  {
   "cell_type": "code",
   "execution_count": 87,
   "id": "9f27a738-dfa1-4c17-9bee-25480c7ef823",
   "metadata": {},
   "outputs": [
    {
     "data": {
      "text/plain": [
       "0"
      ]
     },
     "execution_count": 87,
     "metadata": {},
     "output_type": "execute_result"
    }
   ],
   "source": [
    "# checking if any of the first column was filled with the temporry fil\n",
    "np.isin(loan_data_numeric[:, 0], temporary_fill).sum()"
   ]
  },
  {
   "cell_type": "code",
   "execution_count": 88,
   "id": "b53e02c9-da02-47f8-8103-f004ebee7085",
   "metadata": {},
   "outputs": [
    {
     "data": {
      "text/plain": [
       "array([[  373332.  ,         nan,     1000.  ,         nan,     1000.  ,         nan,        6.  ,\n",
       "              31.42,         nan,         nan,         nan,         nan,         nan,        0.  ],\n",
       "       [54015809.19,         nan,    15273.46,         nan,    15311.04,         nan,       16.62,\n",
       "             440.92,         nan,         nan,         nan,         nan,         nan,     3143.85],\n",
       "       [68616519.  ,         nan,    35000.  ,         nan,    35000.  ,         nan,       28.99,\n",
       "            1372.97,         nan,         nan,         nan,         nan,         nan,    41913.62]])"
      ]
     },
     "execution_count": 88,
     "metadata": {},
     "output_type": "execute_result"
    }
   ],
   "source": [
    "temporary_stat"
   ]
  },
  {
   "cell_type": "code",
   "execution_count": 89,
   "id": "06d32f7a-ee73-4cee-8fbb-16b57dd29a5e",
   "metadata": {
    "scrolled": true
   },
   "outputs": [
    {
     "data": {
      "text/plain": [
       "array([[  373332.  ,     1000.  ,     1000.  ,        6.  ,       31.42,        0.  ],\n",
       "       [54015809.19,    15273.46,    15311.04,       16.62,      440.92,     3143.85],\n",
       "       [68616519.  ,    35000.  ,    35000.  ,       28.99,     1372.97,    41913.62]])"
      ]
     },
     "execution_count": 89,
     "metadata": {},
     "output_type": "execute_result"
    }
   ],
   "source": [
    "temporary_stat[:, column_numeric]\n",
    "# the first row represent the min values, followed by the mean and then the max"
   ]
  },
  {
   "cell_type": "code",
   "execution_count": 90,
   "id": "7b70d674-b399-4602-9b08-d8ff3bf5699a",
   "metadata": {},
   "outputs": [
    {
     "data": {
      "text/plain": [
       "array(['id', 'loan_amnt', 'funded_amnt', 'int_rate', 'installment', 'total_pymnt'], dtype='<U19')"
      ]
     },
     "execution_count": 90,
     "metadata": {},
     "output_type": "execute_result"
    }
   ],
   "source": [
    "header_numeric"
   ]
  },
  {
   "cell_type": "code",
   "execution_count": 91,
   "id": "f92ae4ad-1e08-4efd-ac5f-d044904e05f0",
   "metadata": {},
   "outputs": [
    {
     "data": {
      "text/plain": [
       "array([35000, 30000, 15000, ..., 10000, 10000, 10000])"
      ]
     },
     "execution_count": 91,
     "metadata": {},
     "output_type": "execute_result"
    }
   ],
   "source": [
    "# funded_amt\n",
    "loan_data_numeric[:, 2]"
   ]
  },
  {
   "cell_type": "code",
   "execution_count": 92,
   "id": "48851577-5c70-415e-be0e-c02a14dd648e",
   "metadata": {},
   "outputs": [],
   "source": [
    "# Replacing every temporary_fill values in the funded_amt with the min of the the column\n",
    "loan_data_numeric[:, 2] = np.where(loan_data_numeric[:, 2] == temporary_fill, \n",
    "                                   temporary_stat[0, column_numeric[2]],\n",
    "                                   loan_data_numeric[:, 2])\n"
   ]
  },
  {
   "cell_type": "code",
   "execution_count": 93,
   "id": "ef51ff04-c5de-4cb5-83e2-5fc291feee7f",
   "metadata": {},
   "outputs": [
    {
     "data": {
      "text/plain": [
       "0"
      ]
     },
     "execution_count": 93,
     "metadata": {},
     "output_type": "execute_result"
    }
   ],
   "source": [
    "np.isin(loan_data_numeric[:, 2], temporary_fill).sum()"
   ]
  },
  {
   "cell_type": "markdown",
   "id": "62cf9871-cb1e-415d-8e36-391ecd530d43",
   "metadata": {},
   "source": [
    "**Working on the other columns that is 'loan_amnt', 'int_rate', 'installment', and, 'total_pymnt'. This columns have the index of 1, 3, 4, 5**\n",
    "\n",
    "**Using a for loop to fill the max values from the temporary_stat into all these columns**"
   ]
  },
  {
   "cell_type": "code",
   "execution_count": 94,
   "id": "6f99f575-614d-4b64-8b7c-c17304e8c699",
   "metadata": {},
   "outputs": [],
   "source": [
    "for i in [1, 3, 4, 5]:\n",
    "    loan_data_numeric[:, i] = np.where(loan_data_numeric[:, i] == temporary_fill,\n",
    "                                      temporary_stat[2, column_numeric[i]],\n",
    "                                      loan_data_numeric[:, i]) \n"
   ]
  },
  {
   "cell_type": "code",
   "execution_count": 95,
   "id": "8ddb4572-09d8-4c1b-a4d6-9920c635a972",
   "metadata": {},
   "outputs": [
    {
     "data": {
      "text/plain": [
       "array([[48010226,    35000,    35000,       13,     1184,     9452],\n",
       "       [57693261,    30000,    30000,       28,      938,     4679],\n",
       "       [59432726,    15000,    15000,       28,      494,     1969],\n",
       "       ...,\n",
       "       [50415990,    10000,    10000,       28,     1372,     2185],\n",
       "       [46154151,    35000,    10000,       16,      354,     3199],\n",
       "       [66055249,    10000,    10000,       28,      309,      301]])"
      ]
     },
     "execution_count": 95,
     "metadata": {},
     "output_type": "execute_result"
    }
   ],
   "source": [
    "loan_data_numeric"
   ]
  },
  {
   "cell_type": "code",
   "execution_count": 96,
   "id": "98906c52-1fb8-462e-bd9b-2ecc430be469",
   "metadata": {},
   "outputs": [
    {
     "data": {
      "text/plain": [
       "0"
      ]
     },
     "execution_count": 96,
     "metadata": {},
     "output_type": "execute_result"
    }
   ],
   "source": [
    "# checking if any of the numeric column is still filled with the temporry fil\n",
    "np.isin(loan_data_numeric, temporary_fill).sum()"
   ]
  },
  {
   "cell_type": "markdown",
   "id": "4f5dc557-3032-49bf-bfac-a7f8c67028ad",
   "metadata": {},
   "source": [
    "### Currency Change"
   ]
  },
  {
   "cell_type": "markdown",
   "id": "1b33201a-fe9f-4d7b-91a0-86748061063d",
   "metadata": {},
   "source": [
    "**Importing the Exchange dataset**"
   ]
  },
  {
   "cell_type": "code",
   "execution_count": 97,
   "id": "0e358034-463a-4933-8e7b-db5cb6705c17",
   "metadata": {},
   "outputs": [
    {
     "data": {
      "text/plain": [
       "array([['Open', 'High', 'Low', 'Close', 'Volume'],\n",
       "       ['1.2098628282546997', '1.2098628282546997', '1.11055588722229', '1.1287955045700073', '0'],\n",
       "       ['1.1287955045700073', '1.1484194993972778', '1.117680549621582', '1.1205360889434814',\n",
       "        '0'],\n",
       "       ['1.119795799255371', '1.1240400075912476', '1.0460032224655151', '1.0830246210098267',\n",
       "        '0'],\n",
       "       ['1.0741022825241089', '1.1247594356536865', '1.0521597862243652', '1.1114321947097778',\n",
       "        '0'],\n",
       "       ['1.1215037107467651', '1.145304799079895', '1.0821995735168457', '1.0960345268249512',\n",
       "        '0'],\n",
       "       ['1.095902442932129', '1.1428401470184326', '1.0888904333114624', '1.122296690940857', '0'],\n",
       "       ['1.1134989261627197', '1.1219995021820068', '1.081270456314087', '1.0939244031906128',\n",
       "        '0'],\n",
       "       ['1.0969001054763794', '1.1705996990203857', '1.0850305557250977', '1.1340054273605347',\n",
       "        '0'],\n",
       "       ['1.1225990056991577', '1.1460003852844238', '1.1089695692062378', '1.1255937814712524',\n",
       "        '0'],\n",
       "       ['1.1171561479568481', '1.1494200229644775', '1.0910003185272217', '1.100897192955017',\n",
       "        '0'],\n",
       "       ['1.1024993658065796', '1.1060001850128174', '1.056400179862976', '1.0583018064498901',\n",
       "        '0'],\n",
       "       ['1.0572947263717651', '1.107000470161438', '1.0541995763778687', '1.093398094177246', '0']],\n",
       "      dtype='<U18')"
      ]
     },
     "execution_count": 97,
     "metadata": {},
     "output_type": "execute_result"
    }
   ],
   "source": [
    "# Exchange dataset\n",
    "EUR_USD = np.genfromtxt('EUR-USD.csv', delimiter =',', autostrip = True, dtype = 'str')\n",
    "EUR_USD"
   ]
  },
  {
   "cell_type": "markdown",
   "id": "d9e2fdb3-9df2-4b68-b2d4-fd2b6d514f55",
   "metadata": {},
   "source": [
    "**Since we will only be using the \"Close\" column we can only import just that column**"
   ]
  },
  {
   "cell_type": "code",
   "execution_count": 98,
   "id": "83bce5bc-42aa-432f-ae2b-8309c919ef96",
   "metadata": {},
   "outputs": [
    {
     "data": {
      "text/plain": [
       "array([1.13, 1.12, 1.08, 1.11, 1.1 , 1.12, 1.09, 1.13, 1.13, 1.1 , 1.06, 1.09])"
      ]
     },
     "execution_count": 98,
     "metadata": {},
     "output_type": "execute_result"
    }
   ],
   "source": [
    "EUR_USD = np.genfromtxt('EUR-USD.csv', delimiter =',', autostrip = True, skip_header = 1, usecols = 3)\n",
    "EUR_USD"
   ]
  },
  {
   "cell_type": "code",
   "execution_count": 99,
   "id": "a75ea481-0eb4-4956-8a52-1ddf3e0175e3",
   "metadata": {},
   "outputs": [
    {
     "data": {
      "text/plain": [
       "array([ 5,  0,  9, ...,  6,  4, 12])"
      ]
     },
     "execution_count": 99,
     "metadata": {},
     "output_type": "execute_result"
    }
   ],
   "source": [
    "loan_data_strings[:, 0]"
   ]
  },
  {
   "cell_type": "code",
   "execution_count": 100,
   "id": "8a240066-dafc-4460-9fea-09b3dafd968a",
   "metadata": {},
   "outputs": [
    {
     "data": {
      "text/plain": [
       "array([1.1 , 1.11, 1.13, ..., 1.12, 1.11, 1.09])"
      ]
     },
     "execution_count": 100,
     "metadata": {},
     "output_type": "execute_result"
    }
   ],
   "source": [
    "# attributing exchange rate for each of the issued_data\n",
    "exchange_rate = loan_data_strings[:, 0]\n",
    "\n",
    "for i in range(1, 13):\n",
    "    exchange_rate = np.where(exchange_rate == i,\n",
    "                             EUR_USD[i - 1],\n",
    "                             exchange_rate)\n",
    "\n",
    "exchange_rate = np.where(exchange_rate == 0,\n",
    "                             np.mean(EUR_USD),\n",
    "                             exchange_rate)\n",
    "exchange_rate"
   ]
  },
  {
   "cell_type": "code",
   "execution_count": 101,
   "id": "d8e8accb-6170-45b6-897d-72189e21f41d",
   "metadata": {},
   "outputs": [
    {
     "data": {
      "text/plain": [
       "(10000,)"
      ]
     },
     "execution_count": 101,
     "metadata": {},
     "output_type": "execute_result"
    }
   ],
   "source": [
    "exchange_rate.shape"
   ]
  },
  {
   "cell_type": "code",
   "execution_count": 102,
   "id": "46dad3cb-9b4c-41b5-bf0d-b03e2d9eca72",
   "metadata": {},
   "outputs": [
    {
     "data": {
      "text/plain": [
       "(10000, 6)"
      ]
     },
     "execution_count": 102,
     "metadata": {},
     "output_type": "execute_result"
    }
   ],
   "source": [
    "loan_data_numeric.shape"
   ]
  },
  {
   "cell_type": "code",
   "execution_count": 103,
   "id": "237c5760-d87f-4dc9-9405-ca41569cb264",
   "metadata": {},
   "outputs": [
    {
     "data": {
      "text/plain": [
       "(10000, 1)"
      ]
     },
     "execution_count": 103,
     "metadata": {},
     "output_type": "execute_result"
    }
   ],
   "source": [
    "# In other to stack the exchange_rate into the loan_data_numeric, we need to change the shape of the exchange_rate\n",
    "\n",
    "exchange_rate = np.reshape(exchange_rate, (10000, 1))\n",
    "exchange_rate.shape"
   ]
  },
  {
   "cell_type": "markdown",
   "id": "29c51775-0bfe-4c79-aa56-d95c0387db83",
   "metadata": {},
   "source": [
    "#### Horizotal stalking"
   ]
  },
  {
   "cell_type": "code",
   "execution_count": 104,
   "id": "fd87b409-5980-454d-a197-b27d118ec50a",
   "metadata": {},
   "outputs": [
    {
     "data": {
      "text/plain": [
       "array([[48010226.  ,    35000.  ,    35000.  , ...,     1184.  ,     9452.  ,        1.1 ],\n",
       "       [57693261.  ,    30000.  ,    30000.  , ...,      938.  ,     4679.  ,        1.11],\n",
       "       [59432726.  ,    15000.  ,    15000.  , ...,      494.  ,     1969.  ,        1.13],\n",
       "       ...,\n",
       "       [50415990.  ,    10000.  ,    10000.  , ...,     1372.  ,     2185.  ,        1.12],\n",
       "       [46154151.  ,    35000.  ,    10000.  , ...,      354.  ,     3199.  ,        1.11],\n",
       "       [66055249.  ,    10000.  ,    10000.  , ...,      309.  ,      301.  ,        1.09]])"
      ]
     },
     "execution_count": 104,
     "metadata": {},
     "output_type": "execute_result"
    }
   ],
   "source": [
    "loan_data_numeric = np.hstack((loan_data_numeric, exchange_rate))\n",
    "loan_data_numeric"
   ]
  },
  {
   "cell_type": "code",
   "execution_count": 105,
   "id": "0317f450-af0e-4eee-b807-faac2e7fa9ae",
   "metadata": {},
   "outputs": [
    {
     "data": {
      "text/plain": [
       "array(['id', 'loan_amnt', 'funded_amnt', 'int_rate', 'installment', 'total_pymnt', 'exchange_rate'],\n",
       "      dtype='<U19')"
      ]
     },
     "execution_count": 105,
     "metadata": {},
     "output_type": "execute_result"
    }
   ],
   "source": [
    "# Also stalking the header \n",
    "\n",
    "header_numeric = np.hstack((header_numeric, np.array(['exchange_rate'])))\n",
    "header_numeric"
   ]
  },
  {
   "cell_type": "code",
   "execution_count": 106,
   "id": "52eca68f-14c9-4297-8d5d-9dc321214228",
   "metadata": {},
   "outputs": [],
   "source": [
    "# columns that indicated amount in dollars\n",
    "columns_dollars = np.array([1, 2, 4, 5])"
   ]
  },
  {
   "cell_type": "code",
   "execution_count": 107,
   "id": "785627b4-3114-4ff7-8df1-23a83372a7a2",
   "metadata": {},
   "outputs": [
    {
     "data": {
      "text/plain": [
       "array([[35000., 35000.,  1184.,  9452.],\n",
       "       [30000., 30000.,   938.,  4679.],\n",
       "       [15000., 15000.,   494.,  1969.],\n",
       "       ...,\n",
       "       [10000., 10000.,  1372.,  2185.],\n",
       "       [35000., 10000.,   354.,  3199.],\n",
       "       [10000., 10000.,   309.,   301.]])"
      ]
     },
     "execution_count": 107,
     "metadata": {},
     "output_type": "execute_result"
    }
   ],
   "source": [
    "loan_data_numeric[:, columns_dollars]"
   ]
  },
  {
   "cell_type": "code",
   "execution_count": 108,
   "id": "321db907-e218-4c6b-b7a5-e7c835fea791",
   "metadata": {},
   "outputs": [
    {
     "data": {
      "text/plain": [
       "array([1.1 , 1.11, 1.13, ..., 1.12, 1.11, 1.09])"
      ]
     },
     "execution_count": 108,
     "metadata": {},
     "output_type": "execute_result"
    }
   ],
   "source": [
    "loan_data_numeric[:, 6]"
   ]
  },
  {
   "cell_type": "code",
   "execution_count": 109,
   "id": "029e5f7b-dda8-414e-9e74-598b2ed5d316",
   "metadata": {},
   "outputs": [],
   "source": [
    "# creating new columns where we convert all the dollar to EUR equivalent\n",
    "for i in columns_dollars:\n",
    "    loan_data_numeric = np.hstack((loan_data_numeric, np.reshape((loan_data_numeric[:, i] / loan_data_numeric[:, 6]), (10000, 1))))"
   ]
  },
  {
   "cell_type": "code",
   "execution_count": 110,
   "id": "64b96905-5278-40cd-b882-a68a3f86e8fd",
   "metadata": {},
   "outputs": [
    {
     "data": {
      "text/plain": [
       "array([[48010226.  ,    35000.  ,    35000.  , ...,    31933.3 ,     1080.26,     8623.82],\n",
       "       [57693261.  ,    30000.  ,    30000.  , ...,    27132.46,      848.34,     4231.76],\n",
       "       [59432726.  ,    15000.  ,    15000.  , ...,    13326.3 ,      438.88,     1749.3 ],\n",
       "       ...,\n",
       "       [50415990.  ,    10000.  ,    10000.  , ...,     8910.3 ,     1222.49,     1946.9 ],\n",
       "       [46154151.  ,    35000.  ,    10000.  , ...,     8997.4 ,      318.51,     2878.27],\n",
       "       [66055249.  ,    10000.  ,    10000.  , ...,     9145.8 ,      282.61,      275.29]])"
      ]
     },
     "execution_count": 110,
     "metadata": {},
     "output_type": "execute_result"
    }
   ],
   "source": [
    "loan_data_numeric"
   ]
  },
  {
   "cell_type": "code",
   "execution_count": 111,
   "id": "d0d30429-fb82-492c-a9e1-b9dfa277a954",
   "metadata": {},
   "outputs": [
    {
     "data": {
      "text/plain": [
       "(10000, 11)"
      ]
     },
     "execution_count": 111,
     "metadata": {},
     "output_type": "execute_result"
    }
   ],
   "source": [
    "loan_data_numeric.shape"
   ]
  },
  {
   "cell_type": "markdown",
   "id": "5489e92c-85f9-4e6f-994e-0936c21ee7b0",
   "metadata": {},
   "source": [
    "**Expanding the headers name**"
   ]
  },
  {
   "cell_type": "code",
   "execution_count": 112,
   "id": "36fcff04-3bf9-4df1-b4c0-d1bbe2072185",
   "metadata": {},
   "outputs": [
    {
     "data": {
      "text/plain": [
       "array(['loan_amnt_EUR', 'funded_amnt_EUR', 'installment_EUR', 'total_pymnt_EUR'], dtype='<U15')"
      ]
     },
     "execution_count": 112,
     "metadata": {},
     "output_type": "execute_result"
    }
   ],
   "source": [
    "header_additional = np.array([column_name + '_EUR' for column_name in header_numeric[columns_dollars]])\n",
    "\n",
    "header_additional"
   ]
  },
  {
   "cell_type": "code",
   "execution_count": 113,
   "id": "aa618457-aeeb-471e-95fd-e9e84837acaf",
   "metadata": {},
   "outputs": [
    {
     "data": {
      "text/plain": [
       "array(['id', 'loan_amnt', 'funded_amnt', 'int_rate', 'installment', 'total_pymnt', 'exchange_rate',\n",
       "       'loan_amnt_EUR', 'funded_amnt_EUR', 'installment_EUR', 'total_pymnt_EUR'], dtype='<U19')"
      ]
     },
     "execution_count": 113,
     "metadata": {},
     "output_type": "execute_result"
    }
   ],
   "source": [
    "# Stacking the additional columns names with header_numeric\n",
    "\n",
    "header_numeric = np.hstack((header_numeric, header_additional))\n",
    "header_numeric "
   ]
  },
  {
   "cell_type": "code",
   "execution_count": 114,
   "id": "1f11bfc8-fbac-4613-af54-dfecca4154da",
   "metadata": {},
   "outputs": [
    {
     "data": {
      "text/plain": [
       "array(['id', 'loan_amnt_USD', 'funded_amnt_USD', 'int_rate', 'installment_USD', 'total_pymnt_USD',\n",
       "       'exchange_rate', 'loan_amnt_EUR', 'funded_amnt_EUR', 'installment_EUR', 'total_pymnt_EUR'],\n",
       "      dtype='<U19')"
      ]
     },
     "execution_count": 114,
     "metadata": {},
     "output_type": "execute_result"
    }
   ],
   "source": [
    "#adding '_USD' to the dollar amount \n",
    "\n",
    "for i in header_numeric[columns_dollars]:\n",
    "    header_numeric = np.where(header_numeric == i,\n",
    "                             i + '_USD', \n",
    "                             header_numeric)\n",
    "\n",
    "header_numeric"
   ]
  },
  {
   "cell_type": "code",
   "execution_count": 115,
   "id": "830bfc27-13bb-4f62-add1-c29c95b4e97c",
   "metadata": {},
   "outputs": [],
   "source": [
    "col_rearrange  = [0, 1, 7, 2, 8, 3, 4, 9, 5,10, 6]"
   ]
  },
  {
   "cell_type": "code",
   "execution_count": 116,
   "id": "fc95c4ac-0f12-4df3-884b-99d5ebd235b6",
   "metadata": {},
   "outputs": [
    {
     "data": {
      "text/plain": [
       "array(['id', 'loan_amnt_USD', 'loan_amnt_EUR', 'funded_amnt_USD', 'funded_amnt_EUR', 'int_rate',\n",
       "       'installment_USD', 'installment_EUR', 'total_pymnt_USD', 'total_pymnt_EUR', 'exchange_rate'],\n",
       "      dtype='<U19')"
      ]
     },
     "execution_count": 116,
     "metadata": {},
     "output_type": "execute_result"
    }
   ],
   "source": [
    "header_numeric = header_numeric[col_rearrange]\n",
    "header_numeric"
   ]
  },
  {
   "cell_type": "code",
   "execution_count": 117,
   "id": "07abc77b-a3ab-482c-ae05-190a7eadfb5b",
   "metadata": {},
   "outputs": [
    {
     "data": {
      "text/plain": [
       "array([[48010226.  ,    35000.  ,    31933.3 , ...,     9452.  ,     8623.82,        1.1 ],\n",
       "       [57693261.  ,    30000.  ,    27132.46, ...,     4679.  ,     4231.76,        1.11],\n",
       "       [59432726.  ,    15000.  ,    13326.3 , ...,     1969.  ,     1749.3 ,        1.13],\n",
       "       ...,\n",
       "       [50415990.  ,    10000.  ,     8910.3 , ...,     2185.  ,     1946.9 ,        1.12],\n",
       "       [46154151.  ,    35000.  ,    31490.9 , ...,     3199.  ,     2878.27,        1.11],\n",
       "       [66055249.  ,    10000.  ,     9145.8 , ...,      301.  ,      275.29,        1.09]])"
      ]
     },
     "execution_count": 117,
     "metadata": {},
     "output_type": "execute_result"
    }
   ],
   "source": [
    "loan_data_numeric =loan_data_numeric[:, col_rearrange]\n",
    "loan_data_numeric"
   ]
  },
  {
   "cell_type": "markdown",
   "id": "b03c87f6-28dc-4345-8f33-562c926efbf9",
   "metadata": {},
   "source": [
    "### Checkpoint"
   ]
  },
  {
   "cell_type": "code",
   "execution_count": 118,
   "id": "51e4837f-77e2-4667-9a87-4ffca05cf5b5",
   "metadata": {},
   "outputs": [],
   "source": [
    "checkpoint_numeric = checkpoint('Checkpoint-Numeric', header_numeric, loan_data_numeric)"
   ]
  },
  {
   "cell_type": "code",
   "execution_count": 119,
   "id": "2b55140f-f6d6-4976-be07-c1f1527eecdc",
   "metadata": {},
   "outputs": [
    {
     "data": {
      "text/plain": [
       "array([[48010226.  ,    35000.  ,    31933.3 , ...,     9452.  ,     8623.82,        1.1 ],\n",
       "       [57693261.  ,    30000.  ,    27132.46, ...,     4679.  ,     4231.76,        1.11],\n",
       "       [59432726.  ,    15000.  ,    13326.3 , ...,     1969.  ,     1749.3 ,        1.13],\n",
       "       ...,\n",
       "       [50415990.  ,    10000.  ,     8910.3 , ...,     2185.  ,     1946.9 ,        1.12],\n",
       "       [46154151.  ,    35000.  ,    31490.9 , ...,     3199.  ,     2878.27,        1.11],\n",
       "       [66055249.  ,    10000.  ,     9145.8 , ...,      301.  ,      275.29,        1.09]])"
      ]
     },
     "execution_count": 119,
     "metadata": {},
     "output_type": "execute_result"
    }
   ],
   "source": [
    "checkpoint_numeric['data']"
   ]
  },
  {
   "cell_type": "code",
   "execution_count": 120,
   "id": "f3aa94ee-7bd8-4269-b860-e8d8ab1c4647",
   "metadata": {},
   "outputs": [
    {
     "data": {
      "text/plain": [
       "array(['id', 'loan_amnt_USD', 'loan_amnt_EUR', 'funded_amnt_USD', 'funded_amnt_EUR', 'int_rate',\n",
       "       'installment_USD', 'installment_EUR', 'total_pymnt_USD', 'total_pymnt_EUR', 'exchange_rate'],\n",
       "      dtype='<U19')"
      ]
     },
     "execution_count": 120,
     "metadata": {},
     "output_type": "execute_result"
    }
   ],
   "source": [
    "checkpoint_numeric['header']"
   ]
  },
  {
   "cell_type": "markdown",
   "id": "0318407f-30d1-4ebc-81fa-46b7731067fd",
   "metadata": {},
   "source": [
    "## Creating A Complete Dataset"
   ]
  },
  {
   "cell_type": "code",
   "execution_count": 121,
   "id": "f5fc3d7c-0da9-44a8-bf15-7c8b0763bed7",
   "metadata": {},
   "outputs": [
    {
     "data": {
      "text/plain": [
       "(10000, 6)"
      ]
     },
     "execution_count": 121,
     "metadata": {},
     "output_type": "execute_result"
    }
   ],
   "source": [
    "checkpoint_strings['data'].shape"
   ]
  },
  {
   "cell_type": "code",
   "execution_count": 122,
   "id": "0842e9da-22eb-486e-a07e-4208cad58297",
   "metadata": {},
   "outputs": [
    {
     "data": {
      "text/plain": [
       "(10000, 11)"
      ]
     },
     "execution_count": 122,
     "metadata": {},
     "output_type": "execute_result"
    }
   ],
   "source": [
    "checkpoint_numeric['data'].shape"
   ]
  },
  {
   "cell_type": "code",
   "execution_count": 123,
   "id": "704c526b-332c-4d65-9114-b0eca48a459d",
   "metadata": {},
   "outputs": [],
   "source": [
    "loan_data = np.hstack((checkpoint_numeric['data'], checkpoint_strings['data']))"
   ]
  },
  {
   "cell_type": "code",
   "execution_count": 124,
   "id": "0860c751-db12-433d-b007-5a8f8405de7d",
   "metadata": {},
   "outputs": [
    {
     "data": {
      "text/plain": [
       "array([[48010226.  ,    35000.  ,    31933.3 , ...,       13.  ,        1.  ,        1.  ],\n",
       "       [57693261.  ,    30000.  ,    27132.46, ...,        5.  ,        1.  ,        4.  ],\n",
       "       [59432726.  ,    15000.  ,    13326.3 , ...,       10.  ,        1.  ,        4.  ],\n",
       "       ...,\n",
       "       [50415990.  ,    10000.  ,     8910.3 , ...,        5.  ,        1.  ,        1.  ],\n",
       "       [46154151.  ,    35000.  ,    31490.9 , ...,       17.  ,        1.  ,        3.  ],\n",
       "       [66055249.  ,    10000.  ,     9145.8 , ...,        4.  ,        0.  ,        3.  ]])"
      ]
     },
     "execution_count": 124,
     "metadata": {},
     "output_type": "execute_result"
    }
   ],
   "source": [
    "loan_data"
   ]
  },
  {
   "cell_type": "code",
   "execution_count": 125,
   "id": "95cefc0b-e286-42cb-bd10-8bd9b08e6c49",
   "metadata": {},
   "outputs": [
    {
     "data": {
      "text/plain": [
       "(10000, 17)"
      ]
     },
     "execution_count": 125,
     "metadata": {},
     "output_type": "execute_result"
    }
   ],
   "source": [
    "loan_data.shape"
   ]
  },
  {
   "cell_type": "code",
   "execution_count": 126,
   "id": "d84d0c17-cf23-434d-9cb6-b32930be72f1",
   "metadata": {},
   "outputs": [
    {
     "data": {
      "text/plain": [
       "0"
      ]
     },
     "execution_count": 126,
     "metadata": {},
     "output_type": "execute_result"
    }
   ],
   "source": [
    "np.isnan(loan_data).sum()"
   ]
  },
  {
   "cell_type": "code",
   "execution_count": 127,
   "id": "e95f2051-a336-4ab4-8ceb-6e8f0af70eab",
   "metadata": {},
   "outputs": [],
   "source": [
    "header_full = np.concatenate([checkpoint_numeric['header'], checkpoint_strings['header']])"
   ]
  },
  {
   "cell_type": "code",
   "execution_count": 128,
   "id": "62529563-a7dd-4c3d-9a68-788847ed632e",
   "metadata": {},
   "outputs": [
    {
     "data": {
      "text/plain": [
       "array(['id', 'loan_amnt_USD', 'loan_amnt_EUR', 'funded_amnt_USD', 'funded_amnt_EUR', 'int_rate',\n",
       "       'installment_USD', 'installment_EUR', 'total_pymnt_USD', 'total_pymnt_EUR', 'exchange_rate',\n",
       "       'issue_data', 'loan_status', 'term_month', 'sub_grade', 'verification_status', 'addr_state'],\n",
       "      dtype='<U19')"
      ]
     },
     "execution_count": 128,
     "metadata": {},
     "output_type": "execute_result"
    }
   ],
   "source": [
    "header_full"
   ]
  },
  {
   "cell_type": "code",
   "execution_count": 129,
   "id": "6f077ce8-1b67-422d-98e8-1e690b748cc6",
   "metadata": {},
   "outputs": [],
   "source": [
    "header_full[-1] = 'state_address'"
   ]
  },
  {
   "cell_type": "code",
   "execution_count": 130,
   "id": "aa6d526d-db8c-4510-be6c-6a56aae9f068",
   "metadata": {},
   "outputs": [
    {
     "data": {
      "text/plain": [
       "array(['id', 'loan_amnt_USD', 'loan_amnt_EUR', 'funded_amnt_USD', 'funded_amnt_EUR', 'int_rate',\n",
       "       'installment_USD', 'installment_EUR', 'total_pymnt_USD', 'total_pymnt_EUR', 'exchange_rate',\n",
       "       'issue_data', 'loan_status', 'term_month', 'sub_grade', 'verification_status',\n",
       "       'state_address'], dtype='<U19')"
      ]
     },
     "execution_count": 130,
     "metadata": {},
     "output_type": "execute_result"
    }
   ],
   "source": [
    "header_full"
   ]
  },
  {
   "cell_type": "code",
   "execution_count": 131,
   "id": "e8394e71-be40-4ad7-9d71-fe9c733f797e",
   "metadata": {},
   "outputs": [
    {
     "data": {
      "text/plain": [
       "array([2086, 4812, 2353, ..., 4935, 9388, 8415], dtype=int64)"
      ]
     },
     "execution_count": 131,
     "metadata": {},
     "output_type": "execute_result"
    }
   ],
   "source": [
    "np.argsort(loan_data[:, 0])"
   ]
  },
  {
   "cell_type": "code",
   "execution_count": 132,
   "id": "783fe673-1b41-43d9-8997-92c61f958454",
   "metadata": {},
   "outputs": [],
   "source": [
    "loan_data = loan_data[np.argsort(loan_data[:, 0])]"
   ]
  },
  {
   "cell_type": "code",
   "execution_count": 133,
   "id": "dbdabd8a-129f-4344-8a74-9c94247ebd35",
   "metadata": {},
   "outputs": [
    {
     "data": {
      "text/plain": [
       "array([[  373332.  ,     9950.  ,     9038.08, ...,       21.  ,        0.  ,        1.  ],\n",
       "       [  575239.  ,    12000.  ,    10900.2 , ...,       25.  ,        1.  ,        2.  ],\n",
       "       [  707689.  ,    10000.  ,     8924.3 , ...,       13.  ,        1.  ,        0.  ],\n",
       "       ...,\n",
       "       [68614880.  ,     5600.  ,     5121.65, ...,        8.  ,        1.  ,        1.  ],\n",
       "       [68615915.  ,     4000.  ,     3658.32, ...,       10.  ,        1.  ,        2.  ],\n",
       "       [68616519.  ,    21600.  ,    19754.93, ...,        3.  ,        0.  ,        2.  ]])"
      ]
     },
     "execution_count": 133,
     "metadata": {},
     "output_type": "execute_result"
    }
   ],
   "source": [
    "loan_data"
   ]
  },
  {
   "cell_type": "code",
   "execution_count": 134,
   "id": "d8cdb6ba-6187-4e5f-aa93-9b89fe9c59fd",
   "metadata": {},
   "outputs": [
    {
     "data": {
      "text/plain": [
       "array([   0,    1,    2, ..., 9997, 9998, 9999], dtype=int64)"
      ]
     },
     "execution_count": 134,
     "metadata": {},
     "output_type": "execute_result"
    }
   ],
   "source": [
    "np.argsort(loan_data[:, 0])"
   ]
  },
  {
   "cell_type": "markdown",
   "id": "9257a381-4c4d-43cf-8aca-4cf9e87d1078",
   "metadata": {},
   "source": [
    "**Combining the header_full to the loan_data**"
   ]
  },
  {
   "cell_type": "code",
   "execution_count": 135,
   "id": "e4633c89-69a7-4e7f-8492-590fffc2d6cf",
   "metadata": {},
   "outputs": [],
   "source": [
    "loan_data = np.vstack((header_full, loan_data))"
   ]
  },
  {
   "cell_type": "code",
   "execution_count": 136,
   "id": "ff8a0dc2-ad72-4c2c-bf70-454642855d5f",
   "metadata": {},
   "outputs": [
    {
     "data": {
      "text/plain": [
       "array([['id', 'loan_amnt_USD', 'loan_amnt_EUR', ..., 'sub_grade', 'verification_status',\n",
       "        'state_address'],\n",
       "       ['373332.0', '9950.0', '9038.082814338286', ..., '21.0', '0.0', '1.0'],\n",
       "       ['575239.0', '12000.0', '10900.20037910145', ..., '25.0', '1.0', '2.0'],\n",
       "       ...,\n",
       "       ['68614880.0', '5600.0', '5121.647851612413', ..., '8.0', '1.0', '1.0'],\n",
       "       ['68615915.0', '4000.0', '3658.319894008867', ..., '10.0', '1.0', '2.0'],\n",
       "       ['68616519.0', '21600.0', '19754.927427647883', ..., '3.0', '0.0', '2.0']], dtype='<U32')"
      ]
     },
     "execution_count": 136,
     "metadata": {},
     "output_type": "execute_result"
    }
   ],
   "source": [
    "loan_data"
   ]
  },
  {
   "cell_type": "code",
   "execution_count": 137,
   "id": "4712a806-af2a-4794-b6f0-530799fb8dcd",
   "metadata": {},
   "outputs": [],
   "source": [
    "# Saving the dataset\n",
    "np.savetxt('loan-data-preprocessing.csv', \n",
    "           loan_data, \n",
    "           fmt =\"%s\", \n",
    "           delimiter=',')"
   ]
  },
  {
   "cell_type": "markdown",
   "id": "0f4b3968-28a2-48ff-ba20-467d029eb8a7",
   "metadata": {},
   "source": [
    "## Train a Logistic Regression Model"
   ]
  },
  {
   "cell_type": "markdown",
   "id": "69296074-ddc9-4e27-a956-85a631a3e61d",
   "metadata": {},
   "source": [
    "**Loading the preprocessed dataset**"
   ]
  },
  {
   "cell_type": "code",
   "execution_count": 138,
   "id": "2f54eadc-8363-4450-8285-b8f25c9f65bd",
   "metadata": {},
   "outputs": [],
   "source": [
    "preprocessed_df = pd.read_csv('loan-data-preprocessing.csv')"
   ]
  },
  {
   "cell_type": "code",
   "execution_count": 139,
   "id": "4c22a3ee-1c4a-4982-80be-e2cb6f4a4c17",
   "metadata": {},
   "outputs": [
    {
     "data": {
      "text/html": [
       "<div>\n",
       "<style scoped>\n",
       "    .dataframe tbody tr th:only-of-type {\n",
       "        vertical-align: middle;\n",
       "    }\n",
       "\n",
       "    .dataframe tbody tr th {\n",
       "        vertical-align: top;\n",
       "    }\n",
       "\n",
       "    .dataframe thead th {\n",
       "        text-align: right;\n",
       "    }\n",
       "</style>\n",
       "<table border=\"1\" class=\"dataframe\">\n",
       "  <thead>\n",
       "    <tr style=\"text-align: right;\">\n",
       "      <th></th>\n",
       "      <th>id</th>\n",
       "      <th>loan_amnt_USD</th>\n",
       "      <th>loan_amnt_EUR</th>\n",
       "      <th>funded_amnt_USD</th>\n",
       "      <th>funded_amnt_EUR</th>\n",
       "      <th>int_rate</th>\n",
       "      <th>installment_USD</th>\n",
       "      <th>installment_EUR</th>\n",
       "      <th>total_pymnt_USD</th>\n",
       "      <th>total_pymnt_EUR</th>\n",
       "      <th>exchange_rate</th>\n",
       "      <th>issue_data</th>\n",
       "      <th>loan_status</th>\n",
       "      <th>term_month</th>\n",
       "      <th>sub_grade</th>\n",
       "      <th>verification_status</th>\n",
       "      <th>state_address</th>\n",
       "    </tr>\n",
       "  </thead>\n",
       "  <tbody>\n",
       "    <tr>\n",
       "      <th>0</th>\n",
       "      <td>373332.0</td>\n",
       "      <td>9950.0</td>\n",
       "      <td>9038.082814</td>\n",
       "      <td>1000.0</td>\n",
       "      <td>908.350032</td>\n",
       "      <td>18.0</td>\n",
       "      <td>360.0</td>\n",
       "      <td>327.006011</td>\n",
       "      <td>1072.0</td>\n",
       "      <td>973.751234</td>\n",
       "      <td>1.100897</td>\n",
       "      <td>10.0</td>\n",
       "      <td>1.0</td>\n",
       "      <td>36.0</td>\n",
       "      <td>21.0</td>\n",
       "      <td>0.0</td>\n",
       "      <td>1.0</td>\n",
       "    </tr>\n",
       "    <tr>\n",
       "      <th>1</th>\n",
       "      <td>575239.0</td>\n",
       "      <td>12000.0</td>\n",
       "      <td>10900.200379</td>\n",
       "      <td>12000.0</td>\n",
       "      <td>10900.200379</td>\n",
       "      <td>20.0</td>\n",
       "      <td>324.0</td>\n",
       "      <td>294.305410</td>\n",
       "      <td>959.0</td>\n",
       "      <td>871.107680</td>\n",
       "      <td>1.100897</td>\n",
       "      <td>10.0</td>\n",
       "      <td>1.0</td>\n",
       "      <td>60.0</td>\n",
       "      <td>25.0</td>\n",
       "      <td>1.0</td>\n",
       "      <td>2.0</td>\n",
       "    </tr>\n",
       "    <tr>\n",
       "      <th>2</th>\n",
       "      <td>707689.0</td>\n",
       "      <td>10000.0</td>\n",
       "      <td>8924.299805</td>\n",
       "      <td>10000.0</td>\n",
       "      <td>8924.299805</td>\n",
       "      <td>13.0</td>\n",
       "      <td>340.0</td>\n",
       "      <td>303.426193</td>\n",
       "      <td>3726.0</td>\n",
       "      <td>3325.194107</td>\n",
       "      <td>1.120536</td>\n",
       "      <td>2.0</td>\n",
       "      <td>1.0</td>\n",
       "      <td>36.0</td>\n",
       "      <td>13.0</td>\n",
       "      <td>1.0</td>\n",
       "      <td>0.0</td>\n",
       "    </tr>\n",
       "    <tr>\n",
       "      <th>3</th>\n",
       "      <td>709828.0</td>\n",
       "      <td>27200.0</td>\n",
       "      <td>24707.120859</td>\n",
       "      <td>27200.0</td>\n",
       "      <td>24707.120859</td>\n",
       "      <td>28.0</td>\n",
       "      <td>553.0</td>\n",
       "      <td>502.317567</td>\n",
       "      <td>41913.0</td>\n",
       "      <td>38071.674874</td>\n",
       "      <td>1.100897</td>\n",
       "      <td>10.0</td>\n",
       "      <td>1.0</td>\n",
       "      <td>60.0</td>\n",
       "      <td>6.0</td>\n",
       "      <td>0.0</td>\n",
       "      <td>4.0</td>\n",
       "    </tr>\n",
       "    <tr>\n",
       "      <th>4</th>\n",
       "      <td>849994.0</td>\n",
       "      <td>11400.0</td>\n",
       "      <td>10526.076489</td>\n",
       "      <td>11400.0</td>\n",
       "      <td>10526.076489</td>\n",
       "      <td>28.0</td>\n",
       "      <td>376.0</td>\n",
       "      <td>347.175856</td>\n",
       "      <td>3753.0</td>\n",
       "      <td>3465.295181</td>\n",
       "      <td>1.083025</td>\n",
       "      <td>3.0</td>\n",
       "      <td>0.0</td>\n",
       "      <td>36.0</td>\n",
       "      <td>10.0</td>\n",
       "      <td>0.0</td>\n",
       "      <td>1.0</td>\n",
       "    </tr>\n",
       "  </tbody>\n",
       "</table>\n",
       "</div>"
      ],
      "text/plain": [
       "         id  loan_amnt_USD  loan_amnt_EUR  funded_amnt_USD  funded_amnt_EUR  \\\n",
       "0  373332.0         9950.0    9038.082814           1000.0       908.350032   \n",
       "1  575239.0        12000.0   10900.200379          12000.0     10900.200379   \n",
       "2  707689.0        10000.0    8924.299805          10000.0      8924.299805   \n",
       "3  709828.0        27200.0   24707.120859          27200.0     24707.120859   \n",
       "4  849994.0        11400.0   10526.076489          11400.0     10526.076489   \n",
       "\n",
       "   int_rate  installment_USD  installment_EUR  total_pymnt_USD  \\\n",
       "0      18.0            360.0       327.006011           1072.0   \n",
       "1      20.0            324.0       294.305410            959.0   \n",
       "2      13.0            340.0       303.426193           3726.0   \n",
       "3      28.0            553.0       502.317567          41913.0   \n",
       "4      28.0            376.0       347.175856           3753.0   \n",
       "\n",
       "   total_pymnt_EUR  exchange_rate  issue_data  loan_status  term_month  \\\n",
       "0       973.751234       1.100897        10.0          1.0        36.0   \n",
       "1       871.107680       1.100897        10.0          1.0        60.0   \n",
       "2      3325.194107       1.120536         2.0          1.0        36.0   \n",
       "3     38071.674874       1.100897        10.0          1.0        60.0   \n",
       "4      3465.295181       1.083025         3.0          0.0        36.0   \n",
       "\n",
       "   sub_grade  verification_status  state_address  \n",
       "0       21.0                  0.0            1.0  \n",
       "1       25.0                  1.0            2.0  \n",
       "2       13.0                  1.0            0.0  \n",
       "3        6.0                  0.0            4.0  \n",
       "4       10.0                  0.0            1.0  "
      ]
     },
     "execution_count": 139,
     "metadata": {},
     "output_type": "execute_result"
    }
   ],
   "source": [
    "preprocessed_df.head()"
   ]
  },
  {
   "cell_type": "markdown",
   "id": "db70e6c1-83d1-47c3-bbb1-ab20c6def461",
   "metadata": {},
   "source": [
    "**Since we only need to work with the payment in Eur, we can futher split the data**"
   ]
  },
  {
   "cell_type": "code",
   "execution_count": 140,
   "id": "7099ff5f-1cb5-42d3-adba-f9eb35763fcb",
   "metadata": {},
   "outputs": [],
   "source": [
    "model_df = preprocessed_df.iloc[:, [2,4,5,7,9,11,12,13,14,15,16]]"
   ]
  },
  {
   "cell_type": "code",
   "execution_count": 141,
   "id": "41526258-0c82-40f1-bb2f-30398fe77ca9",
   "metadata": {},
   "outputs": [
    {
     "data": {
      "text/html": [
       "<div>\n",
       "<style scoped>\n",
       "    .dataframe tbody tr th:only-of-type {\n",
       "        vertical-align: middle;\n",
       "    }\n",
       "\n",
       "    .dataframe tbody tr th {\n",
       "        vertical-align: top;\n",
       "    }\n",
       "\n",
       "    .dataframe thead th {\n",
       "        text-align: right;\n",
       "    }\n",
       "</style>\n",
       "<table border=\"1\" class=\"dataframe\">\n",
       "  <thead>\n",
       "    <tr style=\"text-align: right;\">\n",
       "      <th></th>\n",
       "      <th>loan_amnt_EUR</th>\n",
       "      <th>funded_amnt_EUR</th>\n",
       "      <th>int_rate</th>\n",
       "      <th>installment_EUR</th>\n",
       "      <th>total_pymnt_EUR</th>\n",
       "      <th>issue_data</th>\n",
       "      <th>loan_status</th>\n",
       "      <th>term_month</th>\n",
       "      <th>sub_grade</th>\n",
       "      <th>verification_status</th>\n",
       "      <th>state_address</th>\n",
       "    </tr>\n",
       "  </thead>\n",
       "  <tbody>\n",
       "    <tr>\n",
       "      <th>0</th>\n",
       "      <td>9038.082814</td>\n",
       "      <td>908.350032</td>\n",
       "      <td>18.0</td>\n",
       "      <td>327.006011</td>\n",
       "      <td>973.751234</td>\n",
       "      <td>10.0</td>\n",
       "      <td>1.0</td>\n",
       "      <td>36.0</td>\n",
       "      <td>21.0</td>\n",
       "      <td>0.0</td>\n",
       "      <td>1.0</td>\n",
       "    </tr>\n",
       "    <tr>\n",
       "      <th>1</th>\n",
       "      <td>10900.200379</td>\n",
       "      <td>10900.200379</td>\n",
       "      <td>20.0</td>\n",
       "      <td>294.305410</td>\n",
       "      <td>871.107680</td>\n",
       "      <td>10.0</td>\n",
       "      <td>1.0</td>\n",
       "      <td>60.0</td>\n",
       "      <td>25.0</td>\n",
       "      <td>1.0</td>\n",
       "      <td>2.0</td>\n",
       "    </tr>\n",
       "    <tr>\n",
       "      <th>2</th>\n",
       "      <td>8924.299805</td>\n",
       "      <td>8924.299805</td>\n",
       "      <td>13.0</td>\n",
       "      <td>303.426193</td>\n",
       "      <td>3325.194107</td>\n",
       "      <td>2.0</td>\n",
       "      <td>1.0</td>\n",
       "      <td>36.0</td>\n",
       "      <td>13.0</td>\n",
       "      <td>1.0</td>\n",
       "      <td>0.0</td>\n",
       "    </tr>\n",
       "    <tr>\n",
       "      <th>3</th>\n",
       "      <td>24707.120859</td>\n",
       "      <td>24707.120859</td>\n",
       "      <td>28.0</td>\n",
       "      <td>502.317567</td>\n",
       "      <td>38071.674874</td>\n",
       "      <td>10.0</td>\n",
       "      <td>1.0</td>\n",
       "      <td>60.0</td>\n",
       "      <td>6.0</td>\n",
       "      <td>0.0</td>\n",
       "      <td>4.0</td>\n",
       "    </tr>\n",
       "    <tr>\n",
       "      <th>4</th>\n",
       "      <td>10526.076489</td>\n",
       "      <td>10526.076489</td>\n",
       "      <td>28.0</td>\n",
       "      <td>347.175856</td>\n",
       "      <td>3465.295181</td>\n",
       "      <td>3.0</td>\n",
       "      <td>0.0</td>\n",
       "      <td>36.0</td>\n",
       "      <td>10.0</td>\n",
       "      <td>0.0</td>\n",
       "      <td>1.0</td>\n",
       "    </tr>\n",
       "    <tr>\n",
       "      <th>...</th>\n",
       "      <td>...</td>\n",
       "      <td>...</td>\n",
       "      <td>...</td>\n",
       "      <td>...</td>\n",
       "      <td>...</td>\n",
       "      <td>...</td>\n",
       "      <td>...</td>\n",
       "      <td>...</td>\n",
       "      <td>...</td>\n",
       "      <td>...</td>\n",
       "      <td>...</td>\n",
       "    </tr>\n",
       "    <tr>\n",
       "      <th>9995</th>\n",
       "      <td>12804.119629</td>\n",
       "      <td>12804.119629</td>\n",
       "      <td>28.0</td>\n",
       "      <td>385.038169</td>\n",
       "      <td>38332.790429</td>\n",
       "      <td>12.0</td>\n",
       "      <td>1.0</td>\n",
       "      <td>36.0</td>\n",
       "      <td>1.0</td>\n",
       "      <td>0.0</td>\n",
       "      <td>1.0</td>\n",
       "    </tr>\n",
       "    <tr>\n",
       "      <th>9996</th>\n",
       "      <td>18291.599470</td>\n",
       "      <td>18291.599470</td>\n",
       "      <td>28.0</td>\n",
       "      <td>577.099963</td>\n",
       "      <td>0.000000</td>\n",
       "      <td>12.0</td>\n",
       "      <td>1.0</td>\n",
       "      <td>36.0</td>\n",
       "      <td>6.0</td>\n",
       "      <td>0.0</td>\n",
       "      <td>2.0</td>\n",
       "    </tr>\n",
       "    <tr>\n",
       "      <th>9997</th>\n",
       "      <td>5121.647852</td>\n",
       "      <td>5121.647852</td>\n",
       "      <td>28.0</td>\n",
       "      <td>164.624395</td>\n",
       "      <td>0.000000</td>\n",
       "      <td>12.0</td>\n",
       "      <td>1.0</td>\n",
       "      <td>36.0</td>\n",
       "      <td>8.0</td>\n",
       "      <td>1.0</td>\n",
       "      <td>1.0</td>\n",
       "    </tr>\n",
       "    <tr>\n",
       "      <th>9998</th>\n",
       "      <td>3658.319894</td>\n",
       "      <td>3658.319894</td>\n",
       "      <td>28.0</td>\n",
       "      <td>119.809977</td>\n",
       "      <td>0.000000</td>\n",
       "      <td>12.0</td>\n",
       "      <td>1.0</td>\n",
       "      <td>36.0</td>\n",
       "      <td>10.0</td>\n",
       "      <td>1.0</td>\n",
       "      <td>2.0</td>\n",
       "    </tr>\n",
       "    <tr>\n",
       "      <th>9999</th>\n",
       "      <td>19754.927428</td>\n",
       "      <td>19754.927428</td>\n",
       "      <td>28.0</td>\n",
       "      <td>609.110262</td>\n",
       "      <td>0.000000</td>\n",
       "      <td>12.0</td>\n",
       "      <td>1.0</td>\n",
       "      <td>36.0</td>\n",
       "      <td>3.0</td>\n",
       "      <td>0.0</td>\n",
       "      <td>2.0</td>\n",
       "    </tr>\n",
       "  </tbody>\n",
       "</table>\n",
       "<p>10000 rows × 11 columns</p>\n",
       "</div>"
      ],
      "text/plain": [
       "      loan_amnt_EUR  funded_amnt_EUR  int_rate  installment_EUR  \\\n",
       "0       9038.082814       908.350032      18.0       327.006011   \n",
       "1      10900.200379     10900.200379      20.0       294.305410   \n",
       "2       8924.299805      8924.299805      13.0       303.426193   \n",
       "3      24707.120859     24707.120859      28.0       502.317567   \n",
       "4      10526.076489     10526.076489      28.0       347.175856   \n",
       "...             ...              ...       ...              ...   \n",
       "9995   12804.119629     12804.119629      28.0       385.038169   \n",
       "9996   18291.599470     18291.599470      28.0       577.099963   \n",
       "9997    5121.647852      5121.647852      28.0       164.624395   \n",
       "9998    3658.319894      3658.319894      28.0       119.809977   \n",
       "9999   19754.927428     19754.927428      28.0       609.110262   \n",
       "\n",
       "      total_pymnt_EUR  issue_data  loan_status  term_month  sub_grade  \\\n",
       "0          973.751234        10.0          1.0        36.0       21.0   \n",
       "1          871.107680        10.0          1.0        60.0       25.0   \n",
       "2         3325.194107         2.0          1.0        36.0       13.0   \n",
       "3        38071.674874        10.0          1.0        60.0        6.0   \n",
       "4         3465.295181         3.0          0.0        36.0       10.0   \n",
       "...               ...         ...          ...         ...        ...   \n",
       "9995     38332.790429        12.0          1.0        36.0        1.0   \n",
       "9996         0.000000        12.0          1.0        36.0        6.0   \n",
       "9997         0.000000        12.0          1.0        36.0        8.0   \n",
       "9998         0.000000        12.0          1.0        36.0       10.0   \n",
       "9999         0.000000        12.0          1.0        36.0        3.0   \n",
       "\n",
       "      verification_status  state_address  \n",
       "0                     0.0            1.0  \n",
       "1                     1.0            2.0  \n",
       "2                     1.0            0.0  \n",
       "3                     0.0            4.0  \n",
       "4                     0.0            1.0  \n",
       "...                   ...            ...  \n",
       "9995                  0.0            1.0  \n",
       "9996                  0.0            2.0  \n",
       "9997                  1.0            1.0  \n",
       "9998                  1.0            2.0  \n",
       "9999                  0.0            2.0  \n",
       "\n",
       "[10000 rows x 11 columns]"
      ]
     },
     "execution_count": 141,
     "metadata": {},
     "output_type": "execute_result"
    }
   ],
   "source": [
    "model_df"
   ]
  },
  {
   "cell_type": "code",
   "execution_count": 142,
   "id": "342110ff-11c9-47d7-b753-e15d227f209b",
   "metadata": {},
   "outputs": [],
   "source": [
    "X = model_df.drop('loan_status', axis = 1)"
   ]
  },
  {
   "cell_type": "code",
   "execution_count": 143,
   "id": "0f64aa35-5907-4e10-a1d4-47a5127a7a29",
   "metadata": {},
   "outputs": [],
   "source": [
    "y = model_df['loan_status']"
   ]
  },
  {
   "cell_type": "markdown",
   "id": "584dd663-03d7-4ee7-8d95-ebfb03ac08a5",
   "metadata": {},
   "source": [
    "### Train Test Split"
   ]
  },
  {
   "cell_type": "code",
   "execution_count": 144,
   "id": "8a4d865e-dd9c-4c4d-b7a5-bc00be0ab354",
   "metadata": {},
   "outputs": [],
   "source": [
    "from sklearn.model_selection import train_test_split"
   ]
  },
  {
   "cell_type": "code",
   "execution_count": 145,
   "id": "0fca5488-afb3-4c62-abf1-e38eb781109f",
   "metadata": {},
   "outputs": [],
   "source": [
    "X_train, X_test, y_train, y_test = train_test_split(X, y, test_size=0.20, random_state=101)"
   ]
  },
  {
   "cell_type": "markdown",
   "id": "5d47e836-a199-435c-9021-2b00b06f9737",
   "metadata": {},
   "source": [
    "### Normalizing the data"
   ]
  },
  {
   "cell_type": "code",
   "execution_count": 146,
   "id": "dc6095b8-049d-48e1-a048-8284d4f26c11",
   "metadata": {},
   "outputs": [],
   "source": [
    "from sklearn.preprocessing import MinMaxScaler"
   ]
  },
  {
   "cell_type": "code",
   "execution_count": 147,
   "id": "c9ed433a-f302-43c6-9a77-ba22a029cada",
   "metadata": {},
   "outputs": [],
   "source": [
    "scaler = MinMaxScaler()"
   ]
  },
  {
   "cell_type": "code",
   "execution_count": 148,
   "id": "fb60c438-e63c-4b49-813b-12c988fea948",
   "metadata": {},
   "outputs": [],
   "source": [
    "X_train = scaler.fit_transform(X_train)"
   ]
  },
  {
   "cell_type": "code",
   "execution_count": 149,
   "id": "bdb9dd9a-1309-4158-9e82-ddc6a7d6bdb9",
   "metadata": {},
   "outputs": [],
   "source": [
    "X_test = scaler.transform(X_test)"
   ]
  },
  {
   "cell_type": "markdown",
   "id": "76b38e5e-0d67-42fb-8d11-a71411c01294",
   "metadata": {},
   "source": [
    "### Logistic Regression Model"
   ]
  },
  {
   "cell_type": "code",
   "execution_count": 150,
   "id": "5fdc992a-8bc4-461c-8d3e-bb3246a3b723",
   "metadata": {},
   "outputs": [],
   "source": [
    "from sklearn.linear_model import LogisticRegression"
   ]
  },
  {
   "cell_type": "code",
   "execution_count": 151,
   "id": "1a0001ab-7b50-473e-a746-3ee243729398",
   "metadata": {},
   "outputs": [],
   "source": [
    "logreg = LogisticRegression()"
   ]
  },
  {
   "cell_type": "code",
   "execution_count": 152,
   "id": "783bcbdd-87ee-41e7-984b-3034c5c0333d",
   "metadata": {},
   "outputs": [
    {
     "data": {
      "text/html": [
       "<style>#sk-container-id-1 {\n",
       "  /* Definition of color scheme common for light and dark mode */\n",
       "  --sklearn-color-text: black;\n",
       "  --sklearn-color-line: gray;\n",
       "  /* Definition of color scheme for unfitted estimators */\n",
       "  --sklearn-color-unfitted-level-0: #fff5e6;\n",
       "  --sklearn-color-unfitted-level-1: #f6e4d2;\n",
       "  --sklearn-color-unfitted-level-2: #ffe0b3;\n",
       "  --sklearn-color-unfitted-level-3: chocolate;\n",
       "  /* Definition of color scheme for fitted estimators */\n",
       "  --sklearn-color-fitted-level-0: #f0f8ff;\n",
       "  --sklearn-color-fitted-level-1: #d4ebff;\n",
       "  --sklearn-color-fitted-level-2: #b3dbfd;\n",
       "  --sklearn-color-fitted-level-3: cornflowerblue;\n",
       "\n",
       "  /* Specific color for light theme */\n",
       "  --sklearn-color-text-on-default-background: var(--sg-text-color, var(--theme-code-foreground, var(--jp-content-font-color1, black)));\n",
       "  --sklearn-color-background: var(--sg-background-color, var(--theme-background, var(--jp-layout-color0, white)));\n",
       "  --sklearn-color-border-box: var(--sg-text-color, var(--theme-code-foreground, var(--jp-content-font-color1, black)));\n",
       "  --sklearn-color-icon: #696969;\n",
       "\n",
       "  @media (prefers-color-scheme: dark) {\n",
       "    /* Redefinition of color scheme for dark theme */\n",
       "    --sklearn-color-text-on-default-background: var(--sg-text-color, var(--theme-code-foreground, var(--jp-content-font-color1, white)));\n",
       "    --sklearn-color-background: var(--sg-background-color, var(--theme-background, var(--jp-layout-color0, #111)));\n",
       "    --sklearn-color-border-box: var(--sg-text-color, var(--theme-code-foreground, var(--jp-content-font-color1, white)));\n",
       "    --sklearn-color-icon: #878787;\n",
       "  }\n",
       "}\n",
       "\n",
       "#sk-container-id-1 {\n",
       "  color: var(--sklearn-color-text);\n",
       "}\n",
       "\n",
       "#sk-container-id-1 pre {\n",
       "  padding: 0;\n",
       "}\n",
       "\n",
       "#sk-container-id-1 input.sk-hidden--visually {\n",
       "  border: 0;\n",
       "  clip: rect(1px 1px 1px 1px);\n",
       "  clip: rect(1px, 1px, 1px, 1px);\n",
       "  height: 1px;\n",
       "  margin: -1px;\n",
       "  overflow: hidden;\n",
       "  padding: 0;\n",
       "  position: absolute;\n",
       "  width: 1px;\n",
       "}\n",
       "\n",
       "#sk-container-id-1 div.sk-dashed-wrapped {\n",
       "  border: 1px dashed var(--sklearn-color-line);\n",
       "  margin: 0 0.4em 0.5em 0.4em;\n",
       "  box-sizing: border-box;\n",
       "  padding-bottom: 0.4em;\n",
       "  background-color: var(--sklearn-color-background);\n",
       "}\n",
       "\n",
       "#sk-container-id-1 div.sk-container {\n",
       "  /* jupyter's `normalize.less` sets `[hidden] { display: none; }`\n",
       "     but bootstrap.min.css set `[hidden] { display: none !important; }`\n",
       "     so we also need the `!important` here to be able to override the\n",
       "     default hidden behavior on the sphinx rendered scikit-learn.org.\n",
       "     See: https://github.com/scikit-learn/scikit-learn/issues/21755 */\n",
       "  display: inline-block !important;\n",
       "  position: relative;\n",
       "}\n",
       "\n",
       "#sk-container-id-1 div.sk-text-repr-fallback {\n",
       "  display: none;\n",
       "}\n",
       "\n",
       "div.sk-parallel-item,\n",
       "div.sk-serial,\n",
       "div.sk-item {\n",
       "  /* draw centered vertical line to link estimators */\n",
       "  background-image: linear-gradient(var(--sklearn-color-text-on-default-background), var(--sklearn-color-text-on-default-background));\n",
       "  background-size: 2px 100%;\n",
       "  background-repeat: no-repeat;\n",
       "  background-position: center center;\n",
       "}\n",
       "\n",
       "/* Parallel-specific style estimator block */\n",
       "\n",
       "#sk-container-id-1 div.sk-parallel-item::after {\n",
       "  content: \"\";\n",
       "  width: 100%;\n",
       "  border-bottom: 2px solid var(--sklearn-color-text-on-default-background);\n",
       "  flex-grow: 1;\n",
       "}\n",
       "\n",
       "#sk-container-id-1 div.sk-parallel {\n",
       "  display: flex;\n",
       "  align-items: stretch;\n",
       "  justify-content: center;\n",
       "  background-color: var(--sklearn-color-background);\n",
       "  position: relative;\n",
       "}\n",
       "\n",
       "#sk-container-id-1 div.sk-parallel-item {\n",
       "  display: flex;\n",
       "  flex-direction: column;\n",
       "}\n",
       "\n",
       "#sk-container-id-1 div.sk-parallel-item:first-child::after {\n",
       "  align-self: flex-end;\n",
       "  width: 50%;\n",
       "}\n",
       "\n",
       "#sk-container-id-1 div.sk-parallel-item:last-child::after {\n",
       "  align-self: flex-start;\n",
       "  width: 50%;\n",
       "}\n",
       "\n",
       "#sk-container-id-1 div.sk-parallel-item:only-child::after {\n",
       "  width: 0;\n",
       "}\n",
       "\n",
       "/* Serial-specific style estimator block */\n",
       "\n",
       "#sk-container-id-1 div.sk-serial {\n",
       "  display: flex;\n",
       "  flex-direction: column;\n",
       "  align-items: center;\n",
       "  background-color: var(--sklearn-color-background);\n",
       "  padding-right: 1em;\n",
       "  padding-left: 1em;\n",
       "}\n",
       "\n",
       "\n",
       "/* Toggleable style: style used for estimator/Pipeline/ColumnTransformer box that is\n",
       "clickable and can be expanded/collapsed.\n",
       "- Pipeline and ColumnTransformer use this feature and define the default style\n",
       "- Estimators will overwrite some part of the style using the `sk-estimator` class\n",
       "*/\n",
       "\n",
       "/* Pipeline and ColumnTransformer style (default) */\n",
       "\n",
       "#sk-container-id-1 div.sk-toggleable {\n",
       "  /* Default theme specific background. It is overwritten whether we have a\n",
       "  specific estimator or a Pipeline/ColumnTransformer */\n",
       "  background-color: var(--sklearn-color-background);\n",
       "}\n",
       "\n",
       "/* Toggleable label */\n",
       "#sk-container-id-1 label.sk-toggleable__label {\n",
       "  cursor: pointer;\n",
       "  display: block;\n",
       "  width: 100%;\n",
       "  margin-bottom: 0;\n",
       "  padding: 0.5em;\n",
       "  box-sizing: border-box;\n",
       "  text-align: center;\n",
       "}\n",
       "\n",
       "#sk-container-id-1 label.sk-toggleable__label-arrow:before {\n",
       "  /* Arrow on the left of the label */\n",
       "  content: \"▸\";\n",
       "  float: left;\n",
       "  margin-right: 0.25em;\n",
       "  color: var(--sklearn-color-icon);\n",
       "}\n",
       "\n",
       "#sk-container-id-1 label.sk-toggleable__label-arrow:hover:before {\n",
       "  color: var(--sklearn-color-text);\n",
       "}\n",
       "\n",
       "/* Toggleable content - dropdown */\n",
       "\n",
       "#sk-container-id-1 div.sk-toggleable__content {\n",
       "  max-height: 0;\n",
       "  max-width: 0;\n",
       "  overflow: hidden;\n",
       "  text-align: left;\n",
       "  /* unfitted */\n",
       "  background-color: var(--sklearn-color-unfitted-level-0);\n",
       "}\n",
       "\n",
       "#sk-container-id-1 div.sk-toggleable__content.fitted {\n",
       "  /* fitted */\n",
       "  background-color: var(--sklearn-color-fitted-level-0);\n",
       "}\n",
       "\n",
       "#sk-container-id-1 div.sk-toggleable__content pre {\n",
       "  margin: 0.2em;\n",
       "  border-radius: 0.25em;\n",
       "  color: var(--sklearn-color-text);\n",
       "  /* unfitted */\n",
       "  background-color: var(--sklearn-color-unfitted-level-0);\n",
       "}\n",
       "\n",
       "#sk-container-id-1 div.sk-toggleable__content.fitted pre {\n",
       "  /* unfitted */\n",
       "  background-color: var(--sklearn-color-fitted-level-0);\n",
       "}\n",
       "\n",
       "#sk-container-id-1 input.sk-toggleable__control:checked~div.sk-toggleable__content {\n",
       "  /* Expand drop-down */\n",
       "  max-height: 200px;\n",
       "  max-width: 100%;\n",
       "  overflow: auto;\n",
       "}\n",
       "\n",
       "#sk-container-id-1 input.sk-toggleable__control:checked~label.sk-toggleable__label-arrow:before {\n",
       "  content: \"▾\";\n",
       "}\n",
       "\n",
       "/* Pipeline/ColumnTransformer-specific style */\n",
       "\n",
       "#sk-container-id-1 div.sk-label input.sk-toggleable__control:checked~label.sk-toggleable__label {\n",
       "  color: var(--sklearn-color-text);\n",
       "  background-color: var(--sklearn-color-unfitted-level-2);\n",
       "}\n",
       "\n",
       "#sk-container-id-1 div.sk-label.fitted input.sk-toggleable__control:checked~label.sk-toggleable__label {\n",
       "  background-color: var(--sklearn-color-fitted-level-2);\n",
       "}\n",
       "\n",
       "/* Estimator-specific style */\n",
       "\n",
       "/* Colorize estimator box */\n",
       "#sk-container-id-1 div.sk-estimator input.sk-toggleable__control:checked~label.sk-toggleable__label {\n",
       "  /* unfitted */\n",
       "  background-color: var(--sklearn-color-unfitted-level-2);\n",
       "}\n",
       "\n",
       "#sk-container-id-1 div.sk-estimator.fitted input.sk-toggleable__control:checked~label.sk-toggleable__label {\n",
       "  /* fitted */\n",
       "  background-color: var(--sklearn-color-fitted-level-2);\n",
       "}\n",
       "\n",
       "#sk-container-id-1 div.sk-label label.sk-toggleable__label,\n",
       "#sk-container-id-1 div.sk-label label {\n",
       "  /* The background is the default theme color */\n",
       "  color: var(--sklearn-color-text-on-default-background);\n",
       "}\n",
       "\n",
       "/* On hover, darken the color of the background */\n",
       "#sk-container-id-1 div.sk-label:hover label.sk-toggleable__label {\n",
       "  color: var(--sklearn-color-text);\n",
       "  background-color: var(--sklearn-color-unfitted-level-2);\n",
       "}\n",
       "\n",
       "/* Label box, darken color on hover, fitted */\n",
       "#sk-container-id-1 div.sk-label.fitted:hover label.sk-toggleable__label.fitted {\n",
       "  color: var(--sklearn-color-text);\n",
       "  background-color: var(--sklearn-color-fitted-level-2);\n",
       "}\n",
       "\n",
       "/* Estimator label */\n",
       "\n",
       "#sk-container-id-1 div.sk-label label {\n",
       "  font-family: monospace;\n",
       "  font-weight: bold;\n",
       "  display: inline-block;\n",
       "  line-height: 1.2em;\n",
       "}\n",
       "\n",
       "#sk-container-id-1 div.sk-label-container {\n",
       "  text-align: center;\n",
       "}\n",
       "\n",
       "/* Estimator-specific */\n",
       "#sk-container-id-1 div.sk-estimator {\n",
       "  font-family: monospace;\n",
       "  border: 1px dotted var(--sklearn-color-border-box);\n",
       "  border-radius: 0.25em;\n",
       "  box-sizing: border-box;\n",
       "  margin-bottom: 0.5em;\n",
       "  /* unfitted */\n",
       "  background-color: var(--sklearn-color-unfitted-level-0);\n",
       "}\n",
       "\n",
       "#sk-container-id-1 div.sk-estimator.fitted {\n",
       "  /* fitted */\n",
       "  background-color: var(--sklearn-color-fitted-level-0);\n",
       "}\n",
       "\n",
       "/* on hover */\n",
       "#sk-container-id-1 div.sk-estimator:hover {\n",
       "  /* unfitted */\n",
       "  background-color: var(--sklearn-color-unfitted-level-2);\n",
       "}\n",
       "\n",
       "#sk-container-id-1 div.sk-estimator.fitted:hover {\n",
       "  /* fitted */\n",
       "  background-color: var(--sklearn-color-fitted-level-2);\n",
       "}\n",
       "\n",
       "/* Specification for estimator info (e.g. \"i\" and \"?\") */\n",
       "\n",
       "/* Common style for \"i\" and \"?\" */\n",
       "\n",
       ".sk-estimator-doc-link,\n",
       "a:link.sk-estimator-doc-link,\n",
       "a:visited.sk-estimator-doc-link {\n",
       "  float: right;\n",
       "  font-size: smaller;\n",
       "  line-height: 1em;\n",
       "  font-family: monospace;\n",
       "  background-color: var(--sklearn-color-background);\n",
       "  border-radius: 1em;\n",
       "  height: 1em;\n",
       "  width: 1em;\n",
       "  text-decoration: none !important;\n",
       "  margin-left: 1ex;\n",
       "  /* unfitted */\n",
       "  border: var(--sklearn-color-unfitted-level-1) 1pt solid;\n",
       "  color: var(--sklearn-color-unfitted-level-1);\n",
       "}\n",
       "\n",
       ".sk-estimator-doc-link.fitted,\n",
       "a:link.sk-estimator-doc-link.fitted,\n",
       "a:visited.sk-estimator-doc-link.fitted {\n",
       "  /* fitted */\n",
       "  border: var(--sklearn-color-fitted-level-1) 1pt solid;\n",
       "  color: var(--sklearn-color-fitted-level-1);\n",
       "}\n",
       "\n",
       "/* On hover */\n",
       "div.sk-estimator:hover .sk-estimator-doc-link:hover,\n",
       ".sk-estimator-doc-link:hover,\n",
       "div.sk-label-container:hover .sk-estimator-doc-link:hover,\n",
       ".sk-estimator-doc-link:hover {\n",
       "  /* unfitted */\n",
       "  background-color: var(--sklearn-color-unfitted-level-3);\n",
       "  color: var(--sklearn-color-background);\n",
       "  text-decoration: none;\n",
       "}\n",
       "\n",
       "div.sk-estimator.fitted:hover .sk-estimator-doc-link.fitted:hover,\n",
       ".sk-estimator-doc-link.fitted:hover,\n",
       "div.sk-label-container:hover .sk-estimator-doc-link.fitted:hover,\n",
       ".sk-estimator-doc-link.fitted:hover {\n",
       "  /* fitted */\n",
       "  background-color: var(--sklearn-color-fitted-level-3);\n",
       "  color: var(--sklearn-color-background);\n",
       "  text-decoration: none;\n",
       "}\n",
       "\n",
       "/* Span, style for the box shown on hovering the info icon */\n",
       ".sk-estimator-doc-link span {\n",
       "  display: none;\n",
       "  z-index: 9999;\n",
       "  position: relative;\n",
       "  font-weight: normal;\n",
       "  right: .2ex;\n",
       "  padding: .5ex;\n",
       "  margin: .5ex;\n",
       "  width: min-content;\n",
       "  min-width: 20ex;\n",
       "  max-width: 50ex;\n",
       "  color: var(--sklearn-color-text);\n",
       "  box-shadow: 2pt 2pt 4pt #999;\n",
       "  /* unfitted */\n",
       "  background: var(--sklearn-color-unfitted-level-0);\n",
       "  border: .5pt solid var(--sklearn-color-unfitted-level-3);\n",
       "}\n",
       "\n",
       ".sk-estimator-doc-link.fitted span {\n",
       "  /* fitted */\n",
       "  background: var(--sklearn-color-fitted-level-0);\n",
       "  border: var(--sklearn-color-fitted-level-3);\n",
       "}\n",
       "\n",
       ".sk-estimator-doc-link:hover span {\n",
       "  display: block;\n",
       "}\n",
       "\n",
       "/* \"?\"-specific style due to the `<a>` HTML tag */\n",
       "\n",
       "#sk-container-id-1 a.estimator_doc_link {\n",
       "  float: right;\n",
       "  font-size: 1rem;\n",
       "  line-height: 1em;\n",
       "  font-family: monospace;\n",
       "  background-color: var(--sklearn-color-background);\n",
       "  border-radius: 1rem;\n",
       "  height: 1rem;\n",
       "  width: 1rem;\n",
       "  text-decoration: none;\n",
       "  /* unfitted */\n",
       "  color: var(--sklearn-color-unfitted-level-1);\n",
       "  border: var(--sklearn-color-unfitted-level-1) 1pt solid;\n",
       "}\n",
       "\n",
       "#sk-container-id-1 a.estimator_doc_link.fitted {\n",
       "  /* fitted */\n",
       "  border: var(--sklearn-color-fitted-level-1) 1pt solid;\n",
       "  color: var(--sklearn-color-fitted-level-1);\n",
       "}\n",
       "\n",
       "/* On hover */\n",
       "#sk-container-id-1 a.estimator_doc_link:hover {\n",
       "  /* unfitted */\n",
       "  background-color: var(--sklearn-color-unfitted-level-3);\n",
       "  color: var(--sklearn-color-background);\n",
       "  text-decoration: none;\n",
       "}\n",
       "\n",
       "#sk-container-id-1 a.estimator_doc_link.fitted:hover {\n",
       "  /* fitted */\n",
       "  background-color: var(--sklearn-color-fitted-level-3);\n",
       "}\n",
       "</style><div id=\"sk-container-id-1\" class=\"sk-top-container\"><div class=\"sk-text-repr-fallback\"><pre>LogisticRegression()</pre><b>In a Jupyter environment, please rerun this cell to show the HTML representation or trust the notebook. <br />On GitHub, the HTML representation is unable to render, please try loading this page with nbviewer.org.</b></div><div class=\"sk-container\" hidden><div class=\"sk-item\"><div class=\"sk-estimator fitted sk-toggleable\"><input class=\"sk-toggleable__control sk-hidden--visually\" id=\"sk-estimator-id-1\" type=\"checkbox\" checked><label for=\"sk-estimator-id-1\" class=\"sk-toggleable__label fitted sk-toggleable__label-arrow fitted\">&nbsp;&nbsp;LogisticRegression<a class=\"sk-estimator-doc-link fitted\" rel=\"noreferrer\" target=\"_blank\" href=\"https://scikit-learn.org/1.5/modules/generated/sklearn.linear_model.LogisticRegression.html\">?<span>Documentation for LogisticRegression</span></a><span class=\"sk-estimator-doc-link fitted\">i<span>Fitted</span></span></label><div class=\"sk-toggleable__content fitted\"><pre>LogisticRegression()</pre></div> </div></div></div></div>"
      ],
      "text/plain": [
       "LogisticRegression()"
      ]
     },
     "execution_count": 152,
     "metadata": {},
     "output_type": "execute_result"
    }
   ],
   "source": [
    "logreg.fit(X_train, y_train)"
   ]
  },
  {
   "cell_type": "code",
   "execution_count": 153,
   "id": "53d4b102-722c-4433-ae8d-9028c2340a43",
   "metadata": {},
   "outputs": [],
   "source": [
    "predictions = logreg.predict(X_test)"
   ]
  },
  {
   "cell_type": "markdown",
   "id": "fccac2eb-f293-42be-88f5-6df391262371",
   "metadata": {},
   "source": [
    "### Model Evaluation"
   ]
  },
  {
   "cell_type": "code",
   "execution_count": 154,
   "id": "f8cf298a-cbaf-4e39-b9e8-803eeaf760e9",
   "metadata": {},
   "outputs": [],
   "source": [
    "from sklearn.metrics import precision_score, confusion_matrix, classification_report"
   ]
  },
  {
   "cell_type": "code",
   "execution_count": 155,
   "id": "4c16a84b-84a2-4470-90f1-26167b24d943",
   "metadata": {
    "scrolled": true
   },
   "outputs": [
    {
     "name": "stdout",
     "output_type": "stream",
     "text": [
      "Precision Score:  0.947\n"
     ]
    }
   ],
   "source": [
    "print(\"Precision Score: \", precision_score(y_test, predictions))"
   ]
  },
  {
   "cell_type": "code",
   "execution_count": 156,
   "id": "d596f053-f13b-4c42-a5fe-471617af5835",
   "metadata": {},
   "outputs": [
    {
     "name": "stdout",
     "output_type": "stream",
     "text": [
      "Confusion Matrix: \n",
      "[[   0  106]\n",
      " [   0 1894]]\n"
     ]
    }
   ],
   "source": [
    "print(\"Confusion Matrix: \")\n",
    "print(confusion_matrix(y_test, predictions))"
   ]
  },
  {
   "cell_type": "code",
   "execution_count": 157,
   "id": "6b499b75-757d-4dcd-a627-0e0653ff7c84",
   "metadata": {},
   "outputs": [
    {
     "name": "stdout",
     "output_type": "stream",
     "text": [
      "Classification Report:\n",
      "              precision    recall  f1-score   support\n",
      "\n",
      "         0.0       0.00      0.00      0.00       106\n",
      "         1.0       0.95      1.00      0.97      1894\n",
      "\n",
      "    accuracy                           0.95      2000\n",
      "   macro avg       0.47      0.50      0.49      2000\n",
      "weighted avg       0.90      0.95      0.92      2000\n",
      "\n"
     ]
    },
    {
     "name": "stderr",
     "output_type": "stream",
     "text": [
      "C:\\Users\\davsh\\AppData\\Local\\Programs\\Python\\Python311\\Lib\\site-packages\\sklearn\\metrics\\_classification.py:1531: UndefinedMetricWarning: Precision is ill-defined and being set to 0.0 in labels with no predicted samples. Use `zero_division` parameter to control this behavior.\n",
      "  _warn_prf(average, modifier, f\"{metric.capitalize()} is\", len(result))\n",
      "C:\\Users\\davsh\\AppData\\Local\\Programs\\Python\\Python311\\Lib\\site-packages\\sklearn\\metrics\\_classification.py:1531: UndefinedMetricWarning: Precision is ill-defined and being set to 0.0 in labels with no predicted samples. Use `zero_division` parameter to control this behavior.\n",
      "  _warn_prf(average, modifier, f\"{metric.capitalize()} is\", len(result))\n",
      "C:\\Users\\davsh\\AppData\\Local\\Programs\\Python\\Python311\\Lib\\site-packages\\sklearn\\metrics\\_classification.py:1531: UndefinedMetricWarning: Precision is ill-defined and being set to 0.0 in labels with no predicted samples. Use `zero_division` parameter to control this behavior.\n",
      "  _warn_prf(average, modifier, f\"{metric.capitalize()} is\", len(result))\n"
     ]
    }
   ],
   "source": [
    "print(\"Classification Report:\")\n",
    "print(classification_report(y_test, predictions))"
   ]
  },
  {
   "cell_type": "code",
   "execution_count": 158,
   "id": "2aa71da9-ed3c-42ad-9d4e-d5ca41c5153b",
   "metadata": {},
   "outputs": [
    {
     "data": {
      "text/plain": [
       "loan_status\n",
       "1.0    9428\n",
       "0.0     572\n",
       "Name: count, dtype: int64"
      ]
     },
     "execution_count": 158,
     "metadata": {},
     "output_type": "execute_result"
    }
   ],
   "source": [
    "y.value_counts()"
   ]
  },
  {
   "cell_type": "code",
   "execution_count": 159,
   "id": "7cd8f264-46b1-4b84-ae92-fe68f4f46bab",
   "metadata": {},
   "outputs": [
    {
     "name": "stdout",
     "output_type": "stream",
     "text": [
      "{1.0: 2000}\n"
     ]
    }
   ],
   "source": [
    "unique, counts = np.unique(predictions, return_counts=True)\n",
    "print(dict(zip(unique, counts)))"
   ]
  },
  {
   "cell_type": "markdown",
   "id": "81ace004-89f4-4b00-9735-c3a460d87135",
   "metadata": {},
   "source": [
    "**The model show a significant imbalance in our data, so let's create another model and using \"class_weight = 'balance' \"**"
   ]
  },
  {
   "cell_type": "code",
   "execution_count": 160,
   "id": "0fe6039e-77c1-4989-874e-8f5c48f75537",
   "metadata": {},
   "outputs": [],
   "source": [
    "logreg2 = LogisticRegression(class_weight='balanced')"
   ]
  },
  {
   "cell_type": "code",
   "execution_count": 161,
   "id": "f50b269a-55a2-4ab3-8efb-eda46b80f5af",
   "metadata": {},
   "outputs": [
    {
     "data": {
      "text/html": [
       "<style>#sk-container-id-2 {\n",
       "  /* Definition of color scheme common for light and dark mode */\n",
       "  --sklearn-color-text: black;\n",
       "  --sklearn-color-line: gray;\n",
       "  /* Definition of color scheme for unfitted estimators */\n",
       "  --sklearn-color-unfitted-level-0: #fff5e6;\n",
       "  --sklearn-color-unfitted-level-1: #f6e4d2;\n",
       "  --sklearn-color-unfitted-level-2: #ffe0b3;\n",
       "  --sklearn-color-unfitted-level-3: chocolate;\n",
       "  /* Definition of color scheme for fitted estimators */\n",
       "  --sklearn-color-fitted-level-0: #f0f8ff;\n",
       "  --sklearn-color-fitted-level-1: #d4ebff;\n",
       "  --sklearn-color-fitted-level-2: #b3dbfd;\n",
       "  --sklearn-color-fitted-level-3: cornflowerblue;\n",
       "\n",
       "  /* Specific color for light theme */\n",
       "  --sklearn-color-text-on-default-background: var(--sg-text-color, var(--theme-code-foreground, var(--jp-content-font-color1, black)));\n",
       "  --sklearn-color-background: var(--sg-background-color, var(--theme-background, var(--jp-layout-color0, white)));\n",
       "  --sklearn-color-border-box: var(--sg-text-color, var(--theme-code-foreground, var(--jp-content-font-color1, black)));\n",
       "  --sklearn-color-icon: #696969;\n",
       "\n",
       "  @media (prefers-color-scheme: dark) {\n",
       "    /* Redefinition of color scheme for dark theme */\n",
       "    --sklearn-color-text-on-default-background: var(--sg-text-color, var(--theme-code-foreground, var(--jp-content-font-color1, white)));\n",
       "    --sklearn-color-background: var(--sg-background-color, var(--theme-background, var(--jp-layout-color0, #111)));\n",
       "    --sklearn-color-border-box: var(--sg-text-color, var(--theme-code-foreground, var(--jp-content-font-color1, white)));\n",
       "    --sklearn-color-icon: #878787;\n",
       "  }\n",
       "}\n",
       "\n",
       "#sk-container-id-2 {\n",
       "  color: var(--sklearn-color-text);\n",
       "}\n",
       "\n",
       "#sk-container-id-2 pre {\n",
       "  padding: 0;\n",
       "}\n",
       "\n",
       "#sk-container-id-2 input.sk-hidden--visually {\n",
       "  border: 0;\n",
       "  clip: rect(1px 1px 1px 1px);\n",
       "  clip: rect(1px, 1px, 1px, 1px);\n",
       "  height: 1px;\n",
       "  margin: -1px;\n",
       "  overflow: hidden;\n",
       "  padding: 0;\n",
       "  position: absolute;\n",
       "  width: 1px;\n",
       "}\n",
       "\n",
       "#sk-container-id-2 div.sk-dashed-wrapped {\n",
       "  border: 1px dashed var(--sklearn-color-line);\n",
       "  margin: 0 0.4em 0.5em 0.4em;\n",
       "  box-sizing: border-box;\n",
       "  padding-bottom: 0.4em;\n",
       "  background-color: var(--sklearn-color-background);\n",
       "}\n",
       "\n",
       "#sk-container-id-2 div.sk-container {\n",
       "  /* jupyter's `normalize.less` sets `[hidden] { display: none; }`\n",
       "     but bootstrap.min.css set `[hidden] { display: none !important; }`\n",
       "     so we also need the `!important` here to be able to override the\n",
       "     default hidden behavior on the sphinx rendered scikit-learn.org.\n",
       "     See: https://github.com/scikit-learn/scikit-learn/issues/21755 */\n",
       "  display: inline-block !important;\n",
       "  position: relative;\n",
       "}\n",
       "\n",
       "#sk-container-id-2 div.sk-text-repr-fallback {\n",
       "  display: none;\n",
       "}\n",
       "\n",
       "div.sk-parallel-item,\n",
       "div.sk-serial,\n",
       "div.sk-item {\n",
       "  /* draw centered vertical line to link estimators */\n",
       "  background-image: linear-gradient(var(--sklearn-color-text-on-default-background), var(--sklearn-color-text-on-default-background));\n",
       "  background-size: 2px 100%;\n",
       "  background-repeat: no-repeat;\n",
       "  background-position: center center;\n",
       "}\n",
       "\n",
       "/* Parallel-specific style estimator block */\n",
       "\n",
       "#sk-container-id-2 div.sk-parallel-item::after {\n",
       "  content: \"\";\n",
       "  width: 100%;\n",
       "  border-bottom: 2px solid var(--sklearn-color-text-on-default-background);\n",
       "  flex-grow: 1;\n",
       "}\n",
       "\n",
       "#sk-container-id-2 div.sk-parallel {\n",
       "  display: flex;\n",
       "  align-items: stretch;\n",
       "  justify-content: center;\n",
       "  background-color: var(--sklearn-color-background);\n",
       "  position: relative;\n",
       "}\n",
       "\n",
       "#sk-container-id-2 div.sk-parallel-item {\n",
       "  display: flex;\n",
       "  flex-direction: column;\n",
       "}\n",
       "\n",
       "#sk-container-id-2 div.sk-parallel-item:first-child::after {\n",
       "  align-self: flex-end;\n",
       "  width: 50%;\n",
       "}\n",
       "\n",
       "#sk-container-id-2 div.sk-parallel-item:last-child::after {\n",
       "  align-self: flex-start;\n",
       "  width: 50%;\n",
       "}\n",
       "\n",
       "#sk-container-id-2 div.sk-parallel-item:only-child::after {\n",
       "  width: 0;\n",
       "}\n",
       "\n",
       "/* Serial-specific style estimator block */\n",
       "\n",
       "#sk-container-id-2 div.sk-serial {\n",
       "  display: flex;\n",
       "  flex-direction: column;\n",
       "  align-items: center;\n",
       "  background-color: var(--sklearn-color-background);\n",
       "  padding-right: 1em;\n",
       "  padding-left: 1em;\n",
       "}\n",
       "\n",
       "\n",
       "/* Toggleable style: style used for estimator/Pipeline/ColumnTransformer box that is\n",
       "clickable and can be expanded/collapsed.\n",
       "- Pipeline and ColumnTransformer use this feature and define the default style\n",
       "- Estimators will overwrite some part of the style using the `sk-estimator` class\n",
       "*/\n",
       "\n",
       "/* Pipeline and ColumnTransformer style (default) */\n",
       "\n",
       "#sk-container-id-2 div.sk-toggleable {\n",
       "  /* Default theme specific background. It is overwritten whether we have a\n",
       "  specific estimator or a Pipeline/ColumnTransformer */\n",
       "  background-color: var(--sklearn-color-background);\n",
       "}\n",
       "\n",
       "/* Toggleable label */\n",
       "#sk-container-id-2 label.sk-toggleable__label {\n",
       "  cursor: pointer;\n",
       "  display: block;\n",
       "  width: 100%;\n",
       "  margin-bottom: 0;\n",
       "  padding: 0.5em;\n",
       "  box-sizing: border-box;\n",
       "  text-align: center;\n",
       "}\n",
       "\n",
       "#sk-container-id-2 label.sk-toggleable__label-arrow:before {\n",
       "  /* Arrow on the left of the label */\n",
       "  content: \"▸\";\n",
       "  float: left;\n",
       "  margin-right: 0.25em;\n",
       "  color: var(--sklearn-color-icon);\n",
       "}\n",
       "\n",
       "#sk-container-id-2 label.sk-toggleable__label-arrow:hover:before {\n",
       "  color: var(--sklearn-color-text);\n",
       "}\n",
       "\n",
       "/* Toggleable content - dropdown */\n",
       "\n",
       "#sk-container-id-2 div.sk-toggleable__content {\n",
       "  max-height: 0;\n",
       "  max-width: 0;\n",
       "  overflow: hidden;\n",
       "  text-align: left;\n",
       "  /* unfitted */\n",
       "  background-color: var(--sklearn-color-unfitted-level-0);\n",
       "}\n",
       "\n",
       "#sk-container-id-2 div.sk-toggleable__content.fitted {\n",
       "  /* fitted */\n",
       "  background-color: var(--sklearn-color-fitted-level-0);\n",
       "}\n",
       "\n",
       "#sk-container-id-2 div.sk-toggleable__content pre {\n",
       "  margin: 0.2em;\n",
       "  border-radius: 0.25em;\n",
       "  color: var(--sklearn-color-text);\n",
       "  /* unfitted */\n",
       "  background-color: var(--sklearn-color-unfitted-level-0);\n",
       "}\n",
       "\n",
       "#sk-container-id-2 div.sk-toggleable__content.fitted pre {\n",
       "  /* unfitted */\n",
       "  background-color: var(--sklearn-color-fitted-level-0);\n",
       "}\n",
       "\n",
       "#sk-container-id-2 input.sk-toggleable__control:checked~div.sk-toggleable__content {\n",
       "  /* Expand drop-down */\n",
       "  max-height: 200px;\n",
       "  max-width: 100%;\n",
       "  overflow: auto;\n",
       "}\n",
       "\n",
       "#sk-container-id-2 input.sk-toggleable__control:checked~label.sk-toggleable__label-arrow:before {\n",
       "  content: \"▾\";\n",
       "}\n",
       "\n",
       "/* Pipeline/ColumnTransformer-specific style */\n",
       "\n",
       "#sk-container-id-2 div.sk-label input.sk-toggleable__control:checked~label.sk-toggleable__label {\n",
       "  color: var(--sklearn-color-text);\n",
       "  background-color: var(--sklearn-color-unfitted-level-2);\n",
       "}\n",
       "\n",
       "#sk-container-id-2 div.sk-label.fitted input.sk-toggleable__control:checked~label.sk-toggleable__label {\n",
       "  background-color: var(--sklearn-color-fitted-level-2);\n",
       "}\n",
       "\n",
       "/* Estimator-specific style */\n",
       "\n",
       "/* Colorize estimator box */\n",
       "#sk-container-id-2 div.sk-estimator input.sk-toggleable__control:checked~label.sk-toggleable__label {\n",
       "  /* unfitted */\n",
       "  background-color: var(--sklearn-color-unfitted-level-2);\n",
       "}\n",
       "\n",
       "#sk-container-id-2 div.sk-estimator.fitted input.sk-toggleable__control:checked~label.sk-toggleable__label {\n",
       "  /* fitted */\n",
       "  background-color: var(--sklearn-color-fitted-level-2);\n",
       "}\n",
       "\n",
       "#sk-container-id-2 div.sk-label label.sk-toggleable__label,\n",
       "#sk-container-id-2 div.sk-label label {\n",
       "  /* The background is the default theme color */\n",
       "  color: var(--sklearn-color-text-on-default-background);\n",
       "}\n",
       "\n",
       "/* On hover, darken the color of the background */\n",
       "#sk-container-id-2 div.sk-label:hover label.sk-toggleable__label {\n",
       "  color: var(--sklearn-color-text);\n",
       "  background-color: var(--sklearn-color-unfitted-level-2);\n",
       "}\n",
       "\n",
       "/* Label box, darken color on hover, fitted */\n",
       "#sk-container-id-2 div.sk-label.fitted:hover label.sk-toggleable__label.fitted {\n",
       "  color: var(--sklearn-color-text);\n",
       "  background-color: var(--sklearn-color-fitted-level-2);\n",
       "}\n",
       "\n",
       "/* Estimator label */\n",
       "\n",
       "#sk-container-id-2 div.sk-label label {\n",
       "  font-family: monospace;\n",
       "  font-weight: bold;\n",
       "  display: inline-block;\n",
       "  line-height: 1.2em;\n",
       "}\n",
       "\n",
       "#sk-container-id-2 div.sk-label-container {\n",
       "  text-align: center;\n",
       "}\n",
       "\n",
       "/* Estimator-specific */\n",
       "#sk-container-id-2 div.sk-estimator {\n",
       "  font-family: monospace;\n",
       "  border: 1px dotted var(--sklearn-color-border-box);\n",
       "  border-radius: 0.25em;\n",
       "  box-sizing: border-box;\n",
       "  margin-bottom: 0.5em;\n",
       "  /* unfitted */\n",
       "  background-color: var(--sklearn-color-unfitted-level-0);\n",
       "}\n",
       "\n",
       "#sk-container-id-2 div.sk-estimator.fitted {\n",
       "  /* fitted */\n",
       "  background-color: var(--sklearn-color-fitted-level-0);\n",
       "}\n",
       "\n",
       "/* on hover */\n",
       "#sk-container-id-2 div.sk-estimator:hover {\n",
       "  /* unfitted */\n",
       "  background-color: var(--sklearn-color-unfitted-level-2);\n",
       "}\n",
       "\n",
       "#sk-container-id-2 div.sk-estimator.fitted:hover {\n",
       "  /* fitted */\n",
       "  background-color: var(--sklearn-color-fitted-level-2);\n",
       "}\n",
       "\n",
       "/* Specification for estimator info (e.g. \"i\" and \"?\") */\n",
       "\n",
       "/* Common style for \"i\" and \"?\" */\n",
       "\n",
       ".sk-estimator-doc-link,\n",
       "a:link.sk-estimator-doc-link,\n",
       "a:visited.sk-estimator-doc-link {\n",
       "  float: right;\n",
       "  font-size: smaller;\n",
       "  line-height: 1em;\n",
       "  font-family: monospace;\n",
       "  background-color: var(--sklearn-color-background);\n",
       "  border-radius: 1em;\n",
       "  height: 1em;\n",
       "  width: 1em;\n",
       "  text-decoration: none !important;\n",
       "  margin-left: 1ex;\n",
       "  /* unfitted */\n",
       "  border: var(--sklearn-color-unfitted-level-1) 1pt solid;\n",
       "  color: var(--sklearn-color-unfitted-level-1);\n",
       "}\n",
       "\n",
       ".sk-estimator-doc-link.fitted,\n",
       "a:link.sk-estimator-doc-link.fitted,\n",
       "a:visited.sk-estimator-doc-link.fitted {\n",
       "  /* fitted */\n",
       "  border: var(--sklearn-color-fitted-level-1) 1pt solid;\n",
       "  color: var(--sklearn-color-fitted-level-1);\n",
       "}\n",
       "\n",
       "/* On hover */\n",
       "div.sk-estimator:hover .sk-estimator-doc-link:hover,\n",
       ".sk-estimator-doc-link:hover,\n",
       "div.sk-label-container:hover .sk-estimator-doc-link:hover,\n",
       ".sk-estimator-doc-link:hover {\n",
       "  /* unfitted */\n",
       "  background-color: var(--sklearn-color-unfitted-level-3);\n",
       "  color: var(--sklearn-color-background);\n",
       "  text-decoration: none;\n",
       "}\n",
       "\n",
       "div.sk-estimator.fitted:hover .sk-estimator-doc-link.fitted:hover,\n",
       ".sk-estimator-doc-link.fitted:hover,\n",
       "div.sk-label-container:hover .sk-estimator-doc-link.fitted:hover,\n",
       ".sk-estimator-doc-link.fitted:hover {\n",
       "  /* fitted */\n",
       "  background-color: var(--sklearn-color-fitted-level-3);\n",
       "  color: var(--sklearn-color-background);\n",
       "  text-decoration: none;\n",
       "}\n",
       "\n",
       "/* Span, style for the box shown on hovering the info icon */\n",
       ".sk-estimator-doc-link span {\n",
       "  display: none;\n",
       "  z-index: 9999;\n",
       "  position: relative;\n",
       "  font-weight: normal;\n",
       "  right: .2ex;\n",
       "  padding: .5ex;\n",
       "  margin: .5ex;\n",
       "  width: min-content;\n",
       "  min-width: 20ex;\n",
       "  max-width: 50ex;\n",
       "  color: var(--sklearn-color-text);\n",
       "  box-shadow: 2pt 2pt 4pt #999;\n",
       "  /* unfitted */\n",
       "  background: var(--sklearn-color-unfitted-level-0);\n",
       "  border: .5pt solid var(--sklearn-color-unfitted-level-3);\n",
       "}\n",
       "\n",
       ".sk-estimator-doc-link.fitted span {\n",
       "  /* fitted */\n",
       "  background: var(--sklearn-color-fitted-level-0);\n",
       "  border: var(--sklearn-color-fitted-level-3);\n",
       "}\n",
       "\n",
       ".sk-estimator-doc-link:hover span {\n",
       "  display: block;\n",
       "}\n",
       "\n",
       "/* \"?\"-specific style due to the `<a>` HTML tag */\n",
       "\n",
       "#sk-container-id-2 a.estimator_doc_link {\n",
       "  float: right;\n",
       "  font-size: 1rem;\n",
       "  line-height: 1em;\n",
       "  font-family: monospace;\n",
       "  background-color: var(--sklearn-color-background);\n",
       "  border-radius: 1rem;\n",
       "  height: 1rem;\n",
       "  width: 1rem;\n",
       "  text-decoration: none;\n",
       "  /* unfitted */\n",
       "  color: var(--sklearn-color-unfitted-level-1);\n",
       "  border: var(--sklearn-color-unfitted-level-1) 1pt solid;\n",
       "}\n",
       "\n",
       "#sk-container-id-2 a.estimator_doc_link.fitted {\n",
       "  /* fitted */\n",
       "  border: var(--sklearn-color-fitted-level-1) 1pt solid;\n",
       "  color: var(--sklearn-color-fitted-level-1);\n",
       "}\n",
       "\n",
       "/* On hover */\n",
       "#sk-container-id-2 a.estimator_doc_link:hover {\n",
       "  /* unfitted */\n",
       "  background-color: var(--sklearn-color-unfitted-level-3);\n",
       "  color: var(--sklearn-color-background);\n",
       "  text-decoration: none;\n",
       "}\n",
       "\n",
       "#sk-container-id-2 a.estimator_doc_link.fitted:hover {\n",
       "  /* fitted */\n",
       "  background-color: var(--sklearn-color-fitted-level-3);\n",
       "}\n",
       "</style><div id=\"sk-container-id-2\" class=\"sk-top-container\"><div class=\"sk-text-repr-fallback\"><pre>LogisticRegression(class_weight=&#x27;balanced&#x27;)</pre><b>In a Jupyter environment, please rerun this cell to show the HTML representation or trust the notebook. <br />On GitHub, the HTML representation is unable to render, please try loading this page with nbviewer.org.</b></div><div class=\"sk-container\" hidden><div class=\"sk-item\"><div class=\"sk-estimator fitted sk-toggleable\"><input class=\"sk-toggleable__control sk-hidden--visually\" id=\"sk-estimator-id-2\" type=\"checkbox\" checked><label for=\"sk-estimator-id-2\" class=\"sk-toggleable__label fitted sk-toggleable__label-arrow fitted\">&nbsp;&nbsp;LogisticRegression<a class=\"sk-estimator-doc-link fitted\" rel=\"noreferrer\" target=\"_blank\" href=\"https://scikit-learn.org/1.5/modules/generated/sklearn.linear_model.LogisticRegression.html\">?<span>Documentation for LogisticRegression</span></a><span class=\"sk-estimator-doc-link fitted\">i<span>Fitted</span></span></label><div class=\"sk-toggleable__content fitted\"><pre>LogisticRegression(class_weight=&#x27;balanced&#x27;)</pre></div> </div></div></div></div>"
      ],
      "text/plain": [
       "LogisticRegression(class_weight='balanced')"
      ]
     },
     "execution_count": 161,
     "metadata": {},
     "output_type": "execute_result"
    }
   ],
   "source": [
    "logreg2.fit(X_train, y_train)"
   ]
  },
  {
   "cell_type": "code",
   "execution_count": 162,
   "id": "35fb719f-8a78-4b84-a610-0e78915c03ed",
   "metadata": {},
   "outputs": [],
   "source": [
    "predictions2 = logreg2.predict(X_test)"
   ]
  },
  {
   "cell_type": "code",
   "execution_count": 163,
   "id": "9402fb1f-d516-46b1-b7a8-3bb9cb7ee1b6",
   "metadata": {},
   "outputs": [
    {
     "name": "stdout",
     "output_type": "stream",
     "text": [
      "Precision Score:  0.9677033492822966\n"
     ]
    }
   ],
   "source": [
    "print(\"Precision Score: \", precision_score(y_test, predictions2))"
   ]
  },
  {
   "cell_type": "code",
   "execution_count": 164,
   "id": "d433fe61-97ae-4a3a-a925-dbef134219c5",
   "metadata": {},
   "outputs": [
    {
     "name": "stdout",
     "output_type": "stream",
     "text": [
      "Confusion Matrix: \n",
      "[[  79   27]\n",
      " [1085  809]]\n"
     ]
    }
   ],
   "source": [
    "print(\"Confusion Matrix: \")\n",
    "print(confusion_matrix(y_test, predictions2))"
   ]
  },
  {
   "cell_type": "code",
   "execution_count": 165,
   "id": "bebfa442-53ae-478d-9682-4de23acc92c6",
   "metadata": {},
   "outputs": [
    {
     "name": "stdout",
     "output_type": "stream",
     "text": [
      "Classification Report:\n",
      "              precision    recall  f1-score   support\n",
      "\n",
      "         0.0       0.07      0.75      0.12       106\n",
      "         1.0       0.97      0.43      0.59      1894\n",
      "\n",
      "    accuracy                           0.44      2000\n",
      "   macro avg       0.52      0.59      0.36      2000\n",
      "weighted avg       0.92      0.44      0.57      2000\n",
      "\n"
     ]
    }
   ],
   "source": [
    "print(\"Classification Report:\")\n",
    "print(classification_report(y_test, predictions2))"
   ]
  },
  {
   "cell_type": "code",
   "execution_count": 166,
   "id": "fa165c0c-d6f4-4e24-9a49-03b07a2971fc",
   "metadata": {},
   "outputs": [
    {
     "name": "stdout",
     "output_type": "stream",
     "text": [
      "{0.0: 1164, 1.0: 836}\n"
     ]
    }
   ],
   "source": [
    "unique, counts = np.unique(predictions2, return_counts=True)\n",
    "print(dict(zip(unique, counts)))"
   ]
  },
  {
   "cell_type": "markdown",
   "id": "381ec850-6cfd-4703-b8fb-0d9dff2a3512",
   "metadata": {},
   "source": [
    "# Conclusion, Limitations, Recommendations, and Business Insights\n",
    "\n",
    "## Conclusion \n",
    "The objective of this project was to build a **predictive model for loan default** using logistic regression. However, during the modeling process, a **significant class imbalance** was identified in the dataset, where the majority class (1.0 – Non-default) heavily outweighed the minority class (0.0 – Default). This imbalance led to an initial model that **predicted only the majority class**, resulting in a misleadingly high accuracy but poor generalization to default cases.  \n",
    "\n",
    "To address this, a second model was trained using **class_weight='balanced'**, which improved class predictions but at the cost of a lower overall accuracy. The confusion matrix and classification report indicate that while the recall for the minority class (defaults) improved significantly, precision suffered, leading to a weaker overall model performance.  \n",
    "\n",
    "This highlights the challenge of **building predictive models in highly imbalanced datasets**—ensuring the model is both sensitive to the minority class while maintaining overall predictive power.  \n",
    "\n",
    "---\n",
    "\n",
    "## Limitations  \n",
    "1. **Severe Class Imbalance** – The dataset was highly skewed towards non-default cases, making it difficult for the model to learn patterns associated with loan defaults.   \n",
    "2. **Model Choice** – Logistic regression, while interpretable, may not be the best model for handling imbalanced data. More advanced models like Random Forest, XGBoost, or SMOTE-balanced classifiers could yield better results.  \n",
    "3. **False Negatives** – The model still struggles to correctly classify defaulted loans, which is a major business risk for lenders.  \n",
    "\n",
    "---\n",
    "\n",
    "## Recommendations for Improvement\n",
    "1. **Apply Data Resampling Techniques:**  \n",
    "   - Use **SMOTE (Synthetic Minority Over-sampling Technique)** to generate synthetic samples for the minority class.  \n",
    "   - Experiment with **undersampling the majority class** to balance the dataset.  \n",
    "\n",
    "2. **Try Advanced Models:**  \n",
    "   - Implement **Random Forest, XGBoost, or Gradient Boosting** to see if they better capture patterns in the data.  \n",
    "   - Use **ensemble methods** to combine multiple models for better performance.  \n",
    "\n",
    "3. **Feature Engineering & Data Enrichment:**  \n",
    "   - Incorporate additional borrower financial indicators like **income, credit history, and debt-to-income ratio**.  \n",
    "   - Create new features (e.g., **loan-to-income ratio, payment delinquency trends**).  \n",
    " \n",
    "---\n",
    "\n",
    "## Business Insights & Implications\n",
    "1. **High Risk of Loan Defaults is Hard to Predict with the Current Data**  \n",
    "   - Lenders should **enhance their risk assessment criteria** by incorporating additional borrower details beyond just the given features.  \n",
    "   \n",
    "2. **False Negatives Pose a Financial Risk**  \n",
    "   - If the model misclassifies defaulters as safe borrowers, financial institutions may suffer heavy losses. A **better risk scoring system** is needed before approving loans.  \n",
    "\n",
    "3. **Alternative Credit Scoring Strategies Should Be Considered**  \n",
    "   - Banks should explore **alternative data sources (e.g., transaction behavior, mobile payment history, social media insights)** to assess creditworthiness.  \n",
    "\n",
    "4. **Lending Institutions Should Adjust Loan Approval Strategies**  \n",
    "   - Given the difficulty in predicting defaults, institutions may consider **stricter lending policies** for high-risk applicants or **higher interest rates to offset risk**.  \n",
    "\n",
    "5. **Regular Model Retraining is Essential**  \n",
    "   - Loan patterns and economic conditions change over time. **Periodic retraining and evaluation** of the model are necessary to maintain its predictive accuracy.  \n",
    "\n",
    "---\n",
    "\n",
    "## Final Thoughts  \n",
    "While the model has provided some predictive insights, its performance is limited due to the imbalanced nature of the dataset. **Further data preprocessing, advanced modeling, and business strategy refinements** are required before deploying this model in a real-world lending environment.  \n",
    "\n",
    "---"
   ]
  }
 ],
 "metadata": {
  "kernelspec": {
   "display_name": "Python 3 (ipykernel)",
   "language": "python",
   "name": "python3"
  },
  "language_info": {
   "codemirror_mode": {
    "name": "ipython",
    "version": 3
   },
   "file_extension": ".py",
   "mimetype": "text/x-python",
   "name": "python",
   "nbconvert_exporter": "python",
   "pygments_lexer": "ipython3",
   "version": "3.11.4"
  }
 },
 "nbformat": 4,
 "nbformat_minor": 5
}
